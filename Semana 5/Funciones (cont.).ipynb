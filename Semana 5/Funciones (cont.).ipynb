{
 "cells": [
  {
   "cell_type": "markdown",
   "metadata": {},
   "source": [
    "# Funciones (cont.)\n",
    "\n",
    "\n",
    "## Alcance de una variable\n",
    "\n",
    "Cuando escribimos funciones, es importante tener claro cuál es el **alcance** de las variables definidas dentro de las funciones. Tomando por ejemplo la función definida en la última clase: \n"
   ]
  },
  {
   "cell_type": "code",
   "execution_count": 19,
   "metadata": {},
   "outputs": [],
   "source": [
    "a = 1\n",
    "b = 2\n",
    "\n",
    "def eleva_potencia(a,b):\n",
    "    '''\n",
    "    Eleva número \"a\" a la \"b\" potencia.\n",
    "    Insumo (input): \n",
    "        a: número\n",
    "        b: número\n",
    "    Producto (output):\n",
    "        resultado: un número\n",
    "    '''\n",
    "    c = 10\n",
    "    resultado = a**b\n",
    "    return resultado"
   ]
  },
  {
   "cell_type": "markdown",
   "metadata": {},
   "source": [
    "Enfocándonos en la variable ``` a ```:"
   ]
  },
  {
   "cell_type": "code",
   "execution_count": 20,
   "metadata": {},
   "outputs": [
    {
     "data": {
      "text/plain": [
       "1"
      ]
     },
     "execution_count": 20,
     "metadata": {},
     "output_type": "execute_result"
    }
   ],
   "source": [
    "eleva_potencia(1,1)"
   ]
  },
  {
   "cell_type": "code",
   "execution_count": 21,
   "metadata": {},
   "outputs": [
    {
     "data": {
      "text/plain": [
       "1"
      ]
     },
     "execution_count": 21,
     "metadata": {},
     "output_type": "execute_result"
    }
   ],
   "source": [
    "a"
   ]
  },
  {
   "cell_type": "markdown",
   "metadata": {},
   "source": [
    "Vemos que existe, y tiene un **_alcance global_**. Eso quiere decir que fue asignada _fuera_ de una función y su tiempo de vida se dará mientras corra el programa. "
   ]
  },
  {
   "cell_type": "markdown",
   "metadata": {},
   "source": [
    "Sin embargo, si queremos acceder a la variable c, definida dentro de la función:"
   ]
  },
  {
   "cell_type": "code",
   "execution_count": 22,
   "metadata": {},
   "outputs": [
    {
     "ename": "NameError",
     "evalue": "name 'c' is not defined",
     "output_type": "error",
     "traceback": [
      "\u001b[0;31m---------------------------------------------------------------------------\u001b[0m",
      "\u001b[0;31mNameError\u001b[0m                                 Traceback (most recent call last)",
      "\u001b[0;32m<ipython-input-22-07c005dd1e94>\u001b[0m in \u001b[0;36m<module>\u001b[0;34m\u001b[0m\n\u001b[0;32m----> 1\u001b[0;31m \u001b[0mc\u001b[0m\u001b[0;34m\u001b[0m\u001b[0;34m\u001b[0m\u001b[0m\n\u001b[0m",
      "\u001b[0;31mNameError\u001b[0m: name 'c' is not defined"
     ]
    }
   ],
   "source": [
    "c "
   ]
  },
  {
   "cell_type": "markdown",
   "metadata": {},
   "source": [
    "Nos sale un error!!. Eso es porque ```c``` solo tiene un **_alcance local_**. Es decir, está definida dentro de una función y solo existe cuando esta es llamada. Hacer esta distinción es muy importante porque: \n",
    "\n",
    "- 1. El código que  está en el alcance global (como nuestra variable a) no puede llamar a código de alcance local (como nuestra variable c). \n",
    "- 2. Sin  embargo, nuestra código de alcance local puede hacer operaciones con el código de alcance global. \n",
    "\n",
    "- 3. El código definido dentro de un alcance local no puede usarse en el alcance local de otra función. \n",
    "\n",
    "- 4. Se puede usar el mismo nombre para una variable si están en diferentes alcances. "
   ]
  },
  {
   "cell_type": "code",
   "execution_count": 23,
   "metadata": {},
   "outputs": [],
   "source": [
    "\n",
    "### Ejemplo del punto 2 \n",
    "z_var = 5\n",
    "def eleva_potencia_a(a,b):\n",
    "    '''\n",
    "    Eleva número \"a\" a la \"b\" potencia.\n",
    "    Insumo (input): \n",
    "        a: número\n",
    "        b: número\n",
    "    Producto (output):\n",
    "        resultado: un número\n",
    "    '''\n",
    "    c = 10 + z_var ##c = 15\n",
    "    resultado = a**b + c\n",
    "    return resultado"
   ]
  },
  {
   "cell_type": "code",
   "execution_count": 25,
   "metadata": {},
   "outputs": [
    {
     "data": {
      "text/plain": [
       "16"
      ]
     },
     "execution_count": 25,
     "metadata": {},
     "output_type": "execute_result"
    }
   ],
   "source": [
    "eleva_potencia_a(1,2)"
   ]
  },
  {
   "cell_type": "code",
   "execution_count": 26,
   "metadata": {},
   "outputs": [],
   "source": [
    "### Ejemplo del punto 4\n",
    "z_var = 5\n",
    "\n",
    "def eleva_potencia_b(a,b):\n",
    "    '''\n",
    "    Eleva número \"a\" a la \"b\" potencia.\n",
    "    Insumo (input): \n",
    "        a: número\n",
    "        b: número\n",
    "    Producto (output):\n",
    "        resultado: un número\n",
    "    '''\n",
    "    z_var = 11\n",
    "    c = 10 + z_var\n",
    "    resultado = a**b + c\n",
    "    return resultado"
   ]
  },
  {
   "cell_type": "code",
   "execution_count": 18,
   "metadata": {},
   "outputs": [
    {
     "data": {
      "text/plain": [
       "16"
      ]
     },
     "execution_count": 18,
     "metadata": {},
     "output_type": "execute_result"
    }
   ],
   "source": [
    "eleva_potencia_a(1,2)"
   ]
  },
  {
   "cell_type": "code",
   "execution_count": null,
   "metadata": {},
   "outputs": [],
   "source": []
  },
  {
   "cell_type": "code",
   "execution_count": 27,
   "metadata": {},
   "outputs": [
    {
     "data": {
      "text/plain": [
       "22"
      ]
     },
     "execution_count": 27,
     "metadata": {},
     "output_type": "execute_result"
    }
   ],
   "source": [
    "eleva_potencia_b(1,2)"
   ]
  },
  {
   "cell_type": "markdown",
   "metadata": {},
   "source": [
    "# Cómo importar funciones\n",
    "\n",
    "Cuando importamos funciones de otros  scripts, su nueva denominación son  **módulos** (por ello cuando descargamos paquetes, a lo que llamamos sus módulos son en realidad funciones dentro de ese paquete). "
   ]
  },
  {
   "cell_type": "code",
   "execution_count": 28,
   "metadata": {},
   "outputs": [
    {
     "name": "stdout",
     "output_type": "stream",
     "text": [
      "The autoreload extension is already loaded. To reload it, use:\n",
      "  %reload_ext autoreload\n"
     ]
    }
   ],
   "source": [
    "%load_ext autoreload\n",
    "%autoreload 2\n",
    "\n"
   ]
  },
  {
   "cell_type": "code",
   "execution_count": 29,
   "metadata": {},
   "outputs": [],
   "source": [
    "import ejemplo2 as e2 #modo 1: alias, "
   ]
  },
  {
   "cell_type": "code",
   "execution_count": 31,
   "metadata": {},
   "outputs": [
    {
     "data": {
      "text/plain": [
       "22"
      ]
     },
     "execution_count": 31,
     "metadata": {},
     "output_type": "execute_result"
    }
   ],
   "source": [
    "e2.eleva_potencia_b(1,2)"
   ]
  },
  {
   "cell_type": "code",
   "execution_count": 75,
   "metadata": {},
   "outputs": [],
   "source": [
    "from ejemplo2 import * #Modo 2, * es un wildcard para seleccionar todos los módulos\n",
    "\n"
   ]
  },
  {
   "cell_type": "code",
   "execution_count": 36,
   "metadata": {},
   "outputs": [
    {
     "data": {
      "text/plain": [
       "22"
      ]
     },
     "execution_count": 36,
     "metadata": {},
     "output_type": "execute_result"
    }
   ],
   "source": [
    "eleva_potencia_cc(1,2)"
   ]
  },
  {
   "cell_type": "code",
   "execution_count": 39,
   "metadata": {},
   "outputs": [],
   "source": [
    "from ejemplo2 import eleva_potencia_dd\n"
   ]
  },
  {
   "cell_type": "code",
   "execution_count": 27,
   "metadata": {},
   "outputs": [
    {
     "data": {
      "text/plain": [
       "16"
      ]
     },
     "execution_count": 27,
     "metadata": {},
     "output_type": "execute_result"
    }
   ],
   "source": [
    "ej.eleva_potencia_new(4,2)"
   ]
  },
  {
   "cell_type": "code",
   "execution_count": 69,
   "metadata": {},
   "outputs": [],
   "source": [
    "def clasifica_cunamas(rural, pobreza, num_ccpp_urbano  = False, centros_rural = False,\n",
    "              desnutricion_cronica  = False, es_juntos  = False):\n",
    "    '''\n",
    "    verifica si distrito es cunamas\n",
    "    insumos:\n",
    "    \n",
    "    retorna:\n",
    "        booleano\n",
    "    '''\n",
    "    \n",
    "    if rural:\n",
    "        UMBRAL_POBREZA = 50\n",
    "        UMBRAL_RURAL = 50\n",
    "        DESNUTRICION_CRONICA = 30\n",
    "\n",
    "        es_cunamas = ((pobreza >= UMBRAL_POBREZA) and (centros_rural >= UMBRAL_RURAL) and \\\n",
    "        (desnutricion_cronica >= DESNUTRICION_CRONICA)  \\\n",
    "        and es_juntos) \n",
    "    else:\n",
    "        UMBRAL_POBREZA = 19.1\n",
    "        CCPP_URBANO = 1\n",
    "        es_cunamas =((pobreza >= UMBRAL_POBREZA) and (num_ccpp_urbano >= CCPP_URBANO)) \n",
    "    return es_cunamas"
   ]
  },
  {
   "cell_type": "code",
   "execution_count": null,
   "metadata": {},
   "outputs": [],
   "source": []
  },
  {
   "cell_type": "code",
   "execution_count": 72,
   "metadata": {},
   "outputs": [
    {
     "data": {
      "text/plain": [
       "True"
      ]
     },
     "execution_count": 72,
     "metadata": {},
     "output_type": "execute_result"
    }
   ],
   "source": [
    "#Ejemplo urbano \n",
    "rural = False\n",
    "pobreza = 30\n",
    "num_ccpp_urbano = 3\n",
    "\n",
    "clasifica_cunamas(rural, pobreza, num_ccpp_urbano)\n"
   ]
  },
  {
   "cell_type": "code",
   "execution_count": 74,
   "metadata": {},
   "outputs": [
    {
     "data": {
      "text/plain": [
       "False"
      ]
     },
     "execution_count": 74,
     "metadata": {},
     "output_type": "execute_result"
    }
   ],
   "source": [
    "#Ejemplo rural\n",
    "rural = True\n",
    "pobreza =  60\n",
    "centros_rural = 51\n",
    "desnutricion_cronica = 40\n",
    "es_juntos = True\n",
    "\n",
    "clasifica(rural, pobreza, False ,centros_rural, desnutricion_cronica, es_juntos)\n"
   ]
  },
  {
   "cell_type": "code",
   "execution_count": null,
   "metadata": {},
   "outputs": [],
   "source": [
    "## Ejemplo del trio pitagórico\n",
    "set_ = range(1,25)\n",
    "for a in set_:\n",
    "    for b in set_:\n",
    "        for c in set_:\n",
    "            if a**2 + b**2 == c**2:\n",
    "                print(a,b,c)"
   ]
  },
  {
   "cell_type": "code",
   "execution_count": 46,
   "metadata": {},
   "outputs": [],
   "source": [
    "###Cómo sería como función. \n",
    "\n",
    "def trio_pit(min_, max_): ## Definiendo qué quiero parametrizar. \n",
    "\n",
    "    set_values = range(min_, max_)\n",
    "\n",
    "    lst_trio = []\n",
    "    \n",
    "    for a in set_values:\n",
    "        for b in set_values:\n",
    "            for c in set_values:\n",
    "                if a**2 + b**2 == c**2:\n",
    "                    lst_trio.append((a,b,c))\n",
    "    return lst_trio"
   ]
  },
  {
   "cell_type": "code",
   "execution_count": 49,
   "metadata": {},
   "outputs": [],
   "source": [
    "#trio_pit(1, 50)"
   ]
  },
  {
   "cell_type": "code",
   "execution_count": 50,
   "metadata": {},
   "outputs": [],
   "source": [
    "ingresos = 100\n",
    "juegos_por_dia = 3\n",
    "\n",
    "def juegos_switch(ingresos, juegos_por_dia):\n",
    "\n",
    "\n",
    "    gastos = 0\n",
    "    precio_juegos_switch = 7\n",
    "    juegos_que_compre = 0\n",
    "    dias = 0 \n",
    "\n",
    "    while gastos < ingresos:\n",
    "        gastos += precio_juegos_switch * juegos_por_dia\n",
    "        juegos_que_compre += juegos_por_dia\n",
    "        dias += 1\n",
    "        \n",
    "    print(f'Me alcanzan para {juegos_que_compre} juegos, en {dias} días y me gasté {gastos} soles')\n"
   ]
  },
  {
   "cell_type": "code",
   "execution_count": 51,
   "metadata": {},
   "outputs": [
    {
     "name": "stdout",
     "output_type": "stream",
     "text": [
      "Me alcanzan para 290 juegos, en 58 días y me gasté 2030 soles\n"
     ]
    }
   ],
   "source": [
    "juegos_switch(2000, 5)"
   ]
  },
  {
   "cell_type": "code",
   "execution_count": null,
   "metadata": {},
   "outputs": [],
   "source": []
  }
 ],
 "metadata": {
  "kernelspec": {
   "display_name": "Python 3",
   "language": "python",
   "name": "python3"
  },
  "language_info": {
   "codemirror_mode": {
    "name": "ipython",
    "version": 3
   },
   "file_extension": ".py",
   "mimetype": "text/x-python",
   "name": "python",
   "nbconvert_exporter": "python",
   "pygments_lexer": "ipython3",
   "version": "3.8.5"
  }
 },
 "nbformat": 4,
 "nbformat_minor": 4
}
