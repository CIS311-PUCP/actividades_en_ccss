{
 "cells": [
  {
   "cell_type": "markdown",
   "metadata": {},
   "source": [
    "# Funciones"
   ]
  },
  {
   "cell_type": "markdown",
   "metadata": {},
   "source": [
    "\n",
    "Las funciones son básicamente una serie de sentencias que pueden ser referenciadas bajo un solo nombre. Las funciones son súper útiles puedes ayudan a guardar código que quieres usar repetidamente sin tener que volver a repetirlo una y otra vez. \n",
    "\n",
    "Podemos ver 2 grandes tipos de funciones:  \n",
    "Funciones predefinidas de Python (Built-in functions). Ya hemos usado varias de ellas, como ```print()``` o ```len()```.  \n",
    "Funciones definidas por el usuario (lo que veremos en esta clase)."
   ]
  },
  {
   "cell_type": "markdown",
   "metadata": {},
   "source": [
    "Imaginemos el ejemplo de los gatitos"
   ]
  },
  {
   "cell_type": "code",
   "execution_count": 1,
   "metadata": {},
   "outputs": [
    {
     "name": "stdout",
     "output_type": "stream",
     "text": [
      "Deberia adoptar un gatito\n"
     ]
    }
   ],
   "source": [
    "gatitos = 0\n",
    "\n",
    "assert gatitos >= 0\n",
    "\n",
    "if gatitos == 1:\n",
    "    print(\"Que lindo gatito!\")\n",
    "elif gatitos >1:\n",
    "    print(\"Que lindos gatitos!\")\n",
    "else:\n",
    "    print(\"Deberia adoptar un gatito\")"
   ]
  },
  {
   "cell_type": "markdown",
   "metadata": {},
   "source": [
    "Qué pasaría si quiero volver a correr nuestro programa porque nuestro número de gatitos cambia? Tengo que volver a definir una y otra vez la variable ```gatitos```.\n",
    "\n",
    "Qué pasaría si quiero agregar más condicionalidades a mi programa? \n",
    "\n",
    "Qué pasa si tengo varios amigos que también quieren probar el número de gatitos que tienen. \n",
    "\n",
    "Las funciones nos ayudan a solucionar todos estos problemas: Los problemas de repetición, que vienen de probar otro número diferente de gatitos, o de querer probar varias veces (como en el caso de mis amigos) cuántos gatitos tiene cada uno\n",
    "\n",
    "Incluso nos ayuda siqueremos que este control flow sea un input para otro programa (Esto último se llama modularidad).\n",
    "\n",
    "A continuacion veremos las funciones definidas por el usuario (user-defined functions en inglés).\n",
    "\n"
   ]
  },
  {
   "cell_type": "markdown",
   "metadata": {},
   "source": [
    "### Escribiendo una función: \n",
    "Imaginemos que queremos sumar dos números "
   ]
  },
  {
   "cell_type": "code",
   "execution_count": 2,
   "metadata": {},
   "outputs": [
    {
     "data": {
      "text/plain": [
       "3"
      ]
     },
     "execution_count": 2,
     "metadata": {},
     "output_type": "execute_result"
    }
   ],
   "source": [
    "a = 1\n",
    "b = 2\n",
    "\n",
    "c = a + b\n",
    "c"
   ]
  },
  {
   "cell_type": "markdown",
   "metadata": {},
   "source": [
    "Esto como función se vería así:\n",
    "\n",
    "```python\n",
    "def suma_numeros(a, b):\n",
    "    '''\n",
    "    Suma dos números\n",
    "    Insumo (input): \n",
    "        a: número\n",
    "        b: número\n",
    "    Producto (output):\n",
    "        resultado: un número\n",
    "    '''\n",
    "    resultado = a + b\n",
    "    return resultado\n",
    "\n",
    "```\n",
    "Vamos a ver cada una de las partes de esta función:\n",
    "\n",
    "```def ``` es la palabra clave para def-inir una función. Después se coloca el nombre de la función, que en este caso es ``` suma_numeros```. \n",
    "\n",
    "- Después del nombre de la función, se ponen, entre paréntesis, los parámetros de la función. Los parámetros son los _insumos_ de la función. \n",
    "\n",
    "- Luego, viene el ``` : ```. Al conjunto del ``` def```,los parámetros y el dos puntos, se le llama el encabezado de la función. \n",
    "\n",
    "- Luego, tenemos la documentación de la función: Aquí describimos qué hace nuestra función, qué necesita como insumo, y sobre todo de qué tipos son nuestros insumos, y qué produce nuestra función, y de qué tipo es esto. \n",
    "\n",
    "- A ello, le sigue el cuerpo de la función, o las instrucciones de cómo queremos que los parámetros sean usados dentro de nuestra función, o en qué los queremos convertir. Ojo que aquí queremos es dar las instrucciones. Cuando corramos la función, estas instrucciones serán asociadas al nombre de la  función pero no ejecutará ningún código (ni arrojará ningún resultado).\n",
    "\n",
    "- Al final, verás que hay una sentencia que empieza con  ``` return```. Esta palabra le antecede a lo queremos que nos arroje la función. \n",
    "\n",
    "\n",
    "Viéndolo como un diagrama, nuestros parámetros o insumos `a` y `b` son el insumo `x` que le damos a nuestra función `suma_numeros` que nos producirá un resultado `y` (llamado resultado).\n",
    "\n",
    "\n",
    "\n",
    "En el siguiente gráfico se ve que los insumos a y b  entran a la función, y lo que sale es el resultado y. "
   ]
  },
  {
   "cell_type": "markdown",
   "metadata": {},
   "source": [
    "<img src=\"img/func.png\" width=\"300\">\n",
    "\n",
    "\n",
    "\n",
    "<br>\n",
    "</br>\n",
    "\n",
    "Definiendo la función, tenemos:"
   ]
  },
  {
   "cell_type": "code",
   "execution_count": 5,
   "metadata": {},
   "outputs": [],
   "source": [
    "def suma_numeros(a, b):\n",
    "    '''\n",
    "    Suma dos números\n",
    "    Insumo (input): \n",
    "        a: número\n",
    "        b: número\n",
    "    Producto (output):\n",
    "        resultado: un número\n",
    "    '''\n",
    "    resultado = a + b\n",
    "    return resultado"
   ]
  },
  {
   "cell_type": "markdown",
   "metadata": {},
   "source": [
    "Y ahora, para usarla, hacemos lo siguiente:"
   ]
  },
  {
   "cell_type": "code",
   "execution_count": 6,
   "metadata": {},
   "outputs": [
    {
     "data": {
      "text/plain": [
       "3"
      ]
     },
     "execution_count": 6,
     "metadata": {},
     "output_type": "execute_result"
    }
   ],
   "source": [
    "suma_numeros(1,2)"
   ]
  },
  {
   "cell_type": "code",
   "execution_count": 7,
   "metadata": {},
   "outputs": [
    {
     "data": {
      "text/plain": [
       "3"
      ]
     },
     "execution_count": 7,
     "metadata": {},
     "output_type": "execute_result"
    }
   ],
   "source": [
    "a = 1\n",
    "b = 2\n",
    "\n",
    "suma_numeros(a,b)"
   ]
  },
  {
   "cell_type": "code",
   "execution_count": 8,
   "metadata": {},
   "outputs": [
    {
     "data": {
      "text/plain": [
       "13"
      ]
     },
     "execution_count": 8,
     "metadata": {},
     "output_type": "execute_result"
    }
   ],
   "source": [
    "10 + suma_numeros(1,2)"
   ]
  },
  {
   "cell_type": "code",
   "execution_count": 9,
   "metadata": {},
   "outputs": [
    {
     "data": {
      "text/plain": [
       "3"
      ]
     },
     "execution_count": 9,
     "metadata": {},
     "output_type": "execute_result"
    }
   ],
   "source": [
    "c = suma_numeros(1,2)\n",
    "c"
   ]
  },
  {
   "cell_type": "code",
   "execution_count": 11,
   "metadata": {},
   "outputs": [
    {
     "data": {
      "text/plain": [
       "15"
      ]
     },
     "execution_count": 11,
     "metadata": {},
     "output_type": "execute_result"
    }
   ],
   "source": [
    "a = 1\n",
    "b = 2\n",
    "suma_numeros(a + 5, b + 7)"
   ]
  },
  {
   "cell_type": "code",
   "execution_count": 12,
   "metadata": {},
   "outputs": [
    {
     "data": {
      "text/plain": [
       "4"
      ]
     },
     "execution_count": 12,
     "metadata": {},
     "output_type": "execute_result"
    }
   ],
   "source": [
    "a = 1\n",
    "b = 2\n",
    "suma_numeros(a ,suma_numeros(a,b))"
   ]
  },
  {
   "cell_type": "markdown",
   "metadata": {},
   "source": [
    "Hemos hecho varias llamadas a la función (o function call, como convencionalmente se llama en inglés), y hemos visto que podemos hacerlo de diferentes maneras! "
   ]
  },
  {
   "cell_type": "markdown",
   "metadata": {},
   "source": [
    "#### Un punto importante: \n",
    "Imaginemos que definimos una función como la de arriba, pero en vez del return, usamos el print."
   ]
  },
  {
   "cell_type": "code",
   "execution_count": 13,
   "metadata": {},
   "outputs": [],
   "source": [
    "def print_suma_numeros(a, b):\n",
    "    '''\n",
    "    Suma dos números\n",
    "    Insumo (input): \n",
    "        a: número\n",
    "        b: número\n",
    "    Producto (output):\n",
    "        resultado: un número\n",
    "    '''\n",
    "    resultado = a + b\n",
    "    print(resultado)"
   ]
  },
  {
   "cell_type": "markdown",
   "metadata": {},
   "source": [
    "Cuando llamamos a la función, vemos que retorna lo siguiente:"
   ]
  },
  {
   "cell_type": "code",
   "execution_count": 14,
   "metadata": {},
   "outputs": [
    {
     "name": "stdout",
     "output_type": "stream",
     "text": [
      "3\n"
     ]
    }
   ],
   "source": [
    "print_suma_numeros(1, 2)"
   ]
  },
  {
   "cell_type": "markdown",
   "metadata": {},
   "source": [
    "Ahora, pese a que hay un resultado \"igual\", veremos que hay diferencias entre usar el print y el return. "
   ]
  },
  {
   "cell_type": "code",
   "execution_count": 18,
   "metadata": {},
   "outputs": [
    {
     "name": "stdout",
     "output_type": "stream",
     "text": [
      "3\n",
      "<class 'int'>\n",
      "<class 'NoneType'>\n"
     ]
    }
   ],
   "source": [
    "nuevo_c = print_suma_numeros(1, 2) ## Aquí asignamos al resultado de usar la función con print, una variable.  \n",
    "print(type(c)) ## Vemos qué tipo retorna el llamado a la función original\n",
    "print(type(nuevo_c)) ##Vemos qué retorna el tipo de la variable\n"
   ]
  },
  {
   "cell_type": "markdown",
   "metadata": {},
   "source": [
    "Vemos que cuando usamos un print, el tipo del resultado es ```None```. Hay que tener cuidado respecto a usar print!!! Sobre todo si queremos usar el resultado de una función como parte de otro programa más grande. Pues podríamos obtener error."
   ]
  },
  {
   "cell_type": "markdown",
   "metadata": {},
   "source": [
    "En nuestro ejemplo inicial de los gatitos: "
   ]
  },
  {
   "cell_type": "code",
   "execution_count": 29,
   "metadata": {},
   "outputs": [],
   "source": [
    "def contar_gatitos(gatitos):\n",
    "    '''\n",
    "    saluda gatitos dependiendo de cuantos tengas\n",
    "    \n",
    "    Input: un número entero\n",
    "    Output: nada, solo saluda a mi(s) gatitos\n",
    "    '''\n",
    "    assert gatitos >= 0\n",
    "\n",
    "    if gatitos == 1:\n",
    "        print(\"Que lindo gatito!\")\n",
    "    elif gatitos >1:\n",
    "        print(\"Que lindos gatitos!\")\n",
    "    else:\n",
    "        print(\"Deberia adoptar un gatito\")"
   ]
  },
  {
   "cell_type": "code",
   "execution_count": 31,
   "metadata": {},
   "outputs": [
    {
     "name": "stdout",
     "output_type": "stream",
     "text": [
      "Deberia adoptar un gatito\n"
     ]
    }
   ],
   "source": [
    "contar_gatitos(0)"
   ]
  },
  {
   "cell_type": "markdown",
   "metadata": {},
   "source": [
    "### Funciones sin parámetros\n",
    "También podemos definir funciones sin parámetros, por ejemplo:"
   ]
  },
  {
   "cell_type": "code",
   "execution_count": 19,
   "metadata": {},
   "outputs": [],
   "source": [
    "def ropa_limpia():\n",
    "    print(\"Hola, esta función te pregunta si aún tienes ropa limpia\")"
   ]
  },
  {
   "cell_type": "code",
   "execution_count": 20,
   "metadata": {},
   "outputs": [
    {
     "name": "stdout",
     "output_type": "stream",
     "text": [
      "Hola, esta función te pregunta si aún tienes ropa limpia\n"
     ]
    }
   ],
   "source": [
    "ropa_limpia()"
   ]
  },
  {
   "cell_type": "markdown",
   "metadata": {},
   "source": [
    "#### Diferencia entre parámetros y argumentos: \n",
    "\n",
    "Antes de proceder, hay que hacer la distinción entre dos conceptos que están muy relacionados: los parámetros y los argumentos. \n",
    "\n",
    "**Parámetros** son los nombres de las variables a la hora de definir la función. En el caso de `suma_numeros` es `a` y `b`.  \n",
    "**Argumentos** son los valores que toman los parámetros cuando llamamos a una función. Por ejemplo, cuando `a = 1` y `b = 2`. \n",
    "\n",
    "\n",
    " En resumen, la función se define con parámetros y se llama con argumentos.\n"
   ]
  },
  {
   "cell_type": "markdown",
   "metadata": {},
   "source": [
    "#### Argumentos posicionales\n",
    "\n",
    "Los argumentos posicionales son pasados a la llamada de la función (function call) sin ser nombrados. Como su nombre lo indica, dependen enteramente del orden en el que fueron colocados cuando creamos nuestra función. El orden en que pasamos nuestros argumentos **importa**. \n",
    "Imaginemos una función que eleva a una potencia, un determinado número:\n"
   ]
  },
  {
   "cell_type": "code",
   "execution_count": 21,
   "metadata": {},
   "outputs": [],
   "source": [
    "def eleva_potencia(a,b):\n",
    "    '''\n",
    "    Eleva número \"a\" a la \"b\" potencia.\n",
    "    Insumo (input): \n",
    "        a: número\n",
    "        b: número\n",
    "    Producto (output):\n",
    "        resultado: un número\n",
    "    '''\n",
    "    resultado = a**b\n",
    "    return resultado"
   ]
  },
  {
   "cell_type": "code",
   "execution_count": 22,
   "metadata": {},
   "outputs": [
    {
     "data": {
      "text/plain": [
       "8"
      ]
     },
     "execution_count": 22,
     "metadata": {},
     "output_type": "execute_result"
    }
   ],
   "source": [
    "eleva_potencia(2,3)"
   ]
  },
  {
   "cell_type": "code",
   "execution_count": 23,
   "metadata": {},
   "outputs": [
    {
     "data": {
      "text/plain": [
       "9"
      ]
     },
     "execution_count": 23,
     "metadata": {},
     "output_type": "execute_result"
    }
   ],
   "source": [
    "eleva_potencia(3,2)"
   ]
  },
  {
   "cell_type": "markdown",
   "metadata": {},
   "source": [
    "#### Argumentos con palabras clave\n",
    "Los argumentos con palabras clave son pasados a la llamada de la función con una indicación de qué parámetros queremos alterar, en este caso no importa el orden. \n",
    "\n",
    "En nuestro ejemplo de eleva potencia:"
   ]
  },
  {
   "cell_type": "code",
   "execution_count": 27,
   "metadata": {},
   "outputs": [
    {
     "data": {
      "text/plain": [
       "8"
      ]
     },
     "execution_count": 27,
     "metadata": {},
     "output_type": "execute_result"
    }
   ],
   "source": [
    "eleva_potencia(a = 2, b = 3)"
   ]
  },
  {
   "cell_type": "code",
   "execution_count": 28,
   "metadata": {},
   "outputs": [
    {
     "data": {
      "text/plain": [
       "8"
      ]
     },
     "execution_count": 28,
     "metadata": {},
     "output_type": "execute_result"
    }
   ],
   "source": [
    "eleva_potencia(b = 3, a = 2)"
   ]
  },
  {
   "cell_type": "markdown",
   "metadata": {},
   "source": [
    "Algo muy importante a tener en cuenta es que cuando intercalamos la especificación de argumentos que mezclan posición con palabras claves, **primero** se definen a los posicionales y después a los de palabras clave."
   ]
  },
  {
   "cell_type": "code",
   "execution_count": 32,
   "metadata": {},
   "outputs": [],
   "source": [
    "def eleva_potencia_suma(a,b,c):\n",
    "    '''\n",
    "    Eleva número \"a\" a la \"b\" potencia.\n",
    "    Insumo (input): \n",
    "        a: número\n",
    "        b: número\n",
    "    Producto (output):\n",
    "        resultado: un número\n",
    "    '''\n",
    "    resultado = a**b\n",
    "    return resultado + c"
   ]
  },
  {
   "cell_type": "code",
   "execution_count": 35,
   "metadata": {},
   "outputs": [
    {
     "data": {
      "text/plain": [
       "6"
      ]
     },
     "execution_count": 35,
     "metadata": {},
     "output_type": "execute_result"
    }
   ],
   "source": [
    "eleva_potencia_suma(1, 2, c = 5)"
   ]
  },
  {
   "cell_type": "code",
   "execution_count": 34,
   "metadata": {},
   "outputs": [
    {
     "ename": "SyntaxError",
     "evalue": "positional argument follows keyword argument (<ipython-input-34-21b14bedbbaa>, line 1)",
     "output_type": "error",
     "traceback": [
      "\u001b[1;36m  File \u001b[1;32m\"<ipython-input-34-21b14bedbbaa>\"\u001b[1;36m, line \u001b[1;32m1\u001b[0m\n\u001b[1;33m    eleva_potencia_suma(1, b = 2,5)\u001b[0m\n\u001b[1;37m                                ^\u001b[0m\n\u001b[1;31mSyntaxError\u001b[0m\u001b[1;31m:\u001b[0m positional argument follows keyword argument\n"
     ]
    }
   ],
   "source": [
    "eleva_potencia_suma(1, b = 2, 5)"
   ]
  },
  {
   "cell_type": "code",
   "execution_count": 36,
   "metadata": {},
   "outputs": [
    {
     "ename": "TypeError",
     "evalue": "eleva_potencia_suma() got multiple values for argument 'b'",
     "output_type": "error",
     "traceback": [
      "\u001b[1;31m---------------------------------------------------------------------------\u001b[0m",
      "\u001b[1;31mTypeError\u001b[0m                                 Traceback (most recent call last)",
      "\u001b[1;32m<ipython-input-36-cd7cda6aea8f>\u001b[0m in \u001b[0;36m<module>\u001b[1;34m\u001b[0m\n\u001b[1;32m----> 1\u001b[1;33m \u001b[0meleva_potencia_suma\u001b[0m\u001b[1;33m(\u001b[0m\u001b[1;36m1\u001b[0m\u001b[1;33m,\u001b[0m \u001b[1;36m2\u001b[0m\u001b[1;33m,\u001b[0m \u001b[0mb\u001b[0m \u001b[1;33m=\u001b[0m \u001b[1;36m5\u001b[0m\u001b[1;33m)\u001b[0m\u001b[1;33m\u001b[0m\u001b[1;33m\u001b[0m\u001b[0m\n\u001b[0m",
      "\u001b[1;31mTypeError\u001b[0m: eleva_potencia_suma() got multiple values for argument 'b'"
     ]
    }
   ],
   "source": [
    "eleva_potencia_suma(1, 2, b = 5)"
   ]
  },
  {
   "cell_type": "markdown",
   "metadata": {},
   "source": [
    "### Alcance de una variable\n",
    "\n",
    "\n",
    "(pendiente)"
   ]
  },
  {
   "cell_type": "code",
   "execution_count": null,
   "metadata": {},
   "outputs": [],
   "source": []
  },
  {
   "cell_type": "code",
   "execution_count": null,
   "metadata": {},
   "outputs": [],
   "source": []
  },
  {
   "cell_type": "code",
   "execution_count": null,
   "metadata": {},
   "outputs": [],
   "source": []
  },
  {
   "cell_type": "markdown",
   "metadata": {},
   "source": [
    "Fuentes:\n",
    "\n",
    "- https://automatetheboringstuff.com/chapter3/\n",
    "- http://bedford-computing.co.uk/learning/wp-content/uploads/2015/10/No.Starch.Python.Oct_.2015.ISBN_.1593276036.pdf (Chap 8)\n",
    "- https://www.w3schools.com/python/python_functions.asp\n",
    "\n",
    "\n",
    "Anatomía de una función: \n",
    "https://web.stanford.edu/class/archive/cs/cs106ap/cs106ap.1198/lectures/6-PythonFunctions/6-Python_Functions.pdf"
   ]
  }
 ],
 "metadata": {
  "kernelspec": {
   "display_name": "Python 3",
   "language": "python",
   "name": "python3"
  },
  "language_info": {
   "codemirror_mode": {
    "name": "ipython",
    "version": 3
   },
   "file_extension": ".py",
   "mimetype": "text/x-python",
   "name": "python",
   "nbconvert_exporter": "python",
   "pygments_lexer": "ipython3",
   "version": "3.7.8"
  }
 },
 "nbformat": 4,
 "nbformat_minor": 4
}
