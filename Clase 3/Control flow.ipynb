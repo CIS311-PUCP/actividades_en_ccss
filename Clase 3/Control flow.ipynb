{
 "cells": [
  {
   "cell_type": "markdown",
   "metadata": {},
   "source": [
    "# Control Flow (Control de flujos)"
   ]
  },
  {
   "cell_type": "markdown",
   "metadata": {},
   "source": [
    "El flow control se refiere a cómo queremos que nuestras instrucciones (programa) se ejecuten. Por cómo, se referirá sobre todo al **_orden_** que queremos que tengan nuestros statements (sentencias?) y las **_condiciones_** bajo las que queremos que se ejecuten.\n",
    "\n",
    "Por ejemplo, muchas veces no necesitamos que _todas las líneas_ de nuestras instrucciones se ejecuten, sino pensar en que dependiendo de ciertas condicionalidades, algunas instrucciones se activarán y otras no. Esta clase tendrá 2 grandes partes: \n",
    "\n",
    "- Statements condicionales (conditional)\n",
    "- Statements en bucle (loop)"
   ]
  },
  {
   "cell_type": "markdown",
   "metadata": {},
   "source": [
    "\n",
    "<img src=\"img/ctrl_1.png\" width=\"500\">\n"
   ]
  },
  {
   "cell_type": "markdown",
   "metadata": {},
   "source": [
    "## Statements condicionales\n",
    "\n",
    "### ``` if ``` statements\n",
    "Los statements condifionales (if statements) nos permiten realizar cosas basadas en una condicionalidad.\n",
    "\n",
    "La estructura general de un statement condicional es la siguiente:  \n",
    "\n",
    "```python\n",
    "if condition <booleano>:\n",
    "        <un statement condicional>\n",
    "    else:\n",
    "        <otro statement condicional>\n",
    "```\n",
    "       \n",
    "        \n",
    "El ```if``` siempre es evaluado basado en un booleano!       \n",
    "\n",
    "Estructura importante:   \n",
    "- la palabra ``` if ```  \n",
    "- ``` condition ```  \n",
    "- ``` :```  \n",
    "- ``` indented block (bloque indentado) ```  \n",
    "\n",
    "A continuación un ejemplo:\n"
   ]
  },
  {
   "cell_type": "code",
   "execution_count": 6,
   "metadata": {},
   "outputs": [
    {
     "name": "stdout",
     "output_type": "stream",
     "text": [
      "mayor que 1\n",
      "esto igual se imprime porque está fuera del bloque indentado\n"
     ]
    }
   ],
   "source": [
    "x = 5 \n",
    "\n",
    "if x > 1:\n",
    "    print(\"mayor que 1\")\n",
    "print(\"esto igual se imprime porque está fuera del bloque indentado\")"
   ]
  },
  {
   "cell_type": "code",
   "execution_count": 7,
   "metadata": {},
   "outputs": [
    {
     "name": "stdout",
     "output_type": "stream",
     "text": [
      "divisible por 5\n"
     ]
    }
   ],
   "source": [
    "x = 50 \n",
    "if  x % 5 == False : ## Caso especial en el que x%5 = 0. En booleano, 0 = False\n",
    "    print (\"divisible por 5\")\n"
   ]
  },
  {
   "cell_type": "code",
   "execution_count": 8,
   "metadata": {},
   "outputs": [],
   "source": [
    "x = 50 \n",
    "if  x % 5: ## Caso especial en el que x%5 = 0. En booleano, 0 = False\n",
    "    print (\"divisible por 5\")"
   ]
  },
  {
   "cell_type": "markdown",
   "metadata": {},
   "source": [
    "### Agregando el ```else```\n",
    "\n",
    "El statement else se evalúa si el ```if``` es falso"
   ]
  },
  {
   "cell_type": "code",
   "execution_count": 9,
   "metadata": {},
   "outputs": [
    {
     "name": "stdout",
     "output_type": "stream",
     "text": [
      "número negativo\n"
     ]
    }
   ],
   "source": [
    "x = -5\n",
    "\n",
    "if x >= 0:\n",
    "    print(\"número positivo\")\n",
    "else:\n",
    "    print(\"número negativo\")"
   ]
  },
  {
   "cell_type": "markdown",
   "metadata": {},
   "source": [
    "### Agregando el ```elif```\n",
    "\n",
    "Los ```elif``` van antes de los ```else``` y evalúa alguna otra condición que nos importa cuando el ```if``` no se cumple. Los elif son _mutuamente excluyentes_ entre sí y el ``` if ```. "
   ]
  },
  {
   "cell_type": "code",
   "execution_count": 3,
   "metadata": {},
   "outputs": [
    {
     "name": "stdout",
     "output_type": "stream",
     "text": [
      "número negativo\n"
     ]
    }
   ],
   "source": [
    "x = -5\n",
    "\n",
    "if x >= 0:\n",
    "    print(\"número positivo\")\n",
    "elif x == 0:\n",
    "    print(\"cero\")\n",
    "else:\n",
    "    print(\"número negativo\")\n",
    "\n",
    "          "
   ]
  },
  {
   "cell_type": "markdown",
   "metadata": {},
   "source": [
    "### La diferencia entre el ```elif``` y el ```if```\n",
    "\n",
    "Aquí hay un punto mega importante que hay que notar: los  ```elif``` y los ```else```  indidican que, apenas se cumpla dicha condición, por default  el control flow termine, sin embargo, en cambio, los ```if``` seguirán evaluando las demás condiciones. "
   ]
  },
  {
   "cell_type": "code",
   "execution_count": 8,
   "metadata": {},
   "outputs": [
    {
     "name": "stdout",
     "output_type": "stream",
     "text": [
      "número positivo\n",
      "número > 4\n",
      "número mayor a 10000\n"
     ]
    }
   ],
   "source": [
    "x = 1000000\n",
    "\n",
    "if x > 0:\n",
    "    print(\"número positivo\")\n",
    "if x > 4:\n",
    "    print(\"número > 4\")\n",
    "if x > 10000:\n",
    "    print(\"número mayor a 10000\")\n",
    "else:\n",
    "    print(\"no imprime porque no llega hasta aquí\")"
   ]
  },
  {
   "cell_type": "code",
   "execution_count": 17,
   "metadata": {},
   "outputs": [
    {
     "name": "stdout",
     "output_type": "stream",
     "text": [
      "número positivo\n"
     ]
    }
   ],
   "source": [
    "x = 1000000\n",
    "\n",
    "if x > 0:\n",
    "    print(\"número positivo\")\n",
    "elif x > 4:\n",
    "    print(\"número > 4\")\n",
    "elif x > 10000:\n",
    "    print(\"número mayor a 10000\")\n",
    "else:\n",
    "    print(\"este statement no se imprime\")"
   ]
  },
  {
   "cell_type": "markdown",
   "metadata": {},
   "source": [
    "En el ejemplo de la lámpara, vemos que la secuencia describe condiciones ```elif``` ya que después de enchufar la lámpara, la lámpara ya prende. En el ejemplo anterior: "
   ]
  },
  {
   "cell_type": "markdown",
   "metadata": {},
   "source": [
    "<img src=\"img/ctrl_1.png\" width=\"500\">"
   ]
  },
  {
   "cell_type": "markdown",
   "metadata": {},
   "source": [
    "Viendo esto en código:"
   ]
  },
  {
   "cell_type": "code",
   "execution_count": 16,
   "metadata": {},
   "outputs": [
    {
     "name": "stdout",
     "output_type": "stream",
     "text": [
      "enchufar la lampara\n"
     ]
    }
   ],
   "source": [
    "\n",
    "lampara_desenchufada = True\n",
    "foco_no_quemado = True\n",
    "lampara_malograda = True\n",
    "\n",
    "if lampara_desenchufada:\n",
    "    print(\"enchufar la lámpara\")\n",
    "elif foco_no_quemado:\n",
    "    print(\"cambiar foco\")\n",
    "elif lampara_malograda:\n",
    "    print(\"reparar lámpara\")\n",
    "else:\n",
    "    print(\"ya cambia  tu lámpara ya\")\n",
    "    "
   ]
  },
  {
   "cell_type": "markdown",
   "metadata": {},
   "source": [
    "Sin embargo, el flow de las instrucciones con el `if` se vería asi"
   ]
  },
  {
   "cell_type": "markdown",
   "metadata": {},
   "source": [
    "<img src=\"img/ctrl_2.png\" width=\"500\">"
   ]
  },
  {
   "cell_type": "code",
   "execution_count": 21,
   "metadata": {},
   "outputs": [
    {
     "name": "stdout",
     "output_type": "stream",
     "text": [
      "enchufar la lampara\n",
      "cambiar foco\n",
      "reparar lámpara\n"
     ]
    }
   ],
   "source": [
    "lampara_desenchufada = True\n",
    "foco_no_quemado = True\n",
    "\n",
    "lampara_malograda = True\n",
    "\n",
    "if lampara_desenchufada:\n",
    "    print(\"enchufar la lampara\")\n",
    "if foco_no_quemado:\n",
    "    print(\"cambiar foco\")\n",
    "if lampara_malograda:\n",
    "    print(\"reparar lámpara\")\n",
    "else:\n",
    "    print(\"ya cambia  tu lámpara ya\")"
   ]
  },
  {
   "cell_type": "code",
   "execution_count": 22,
   "metadata": {},
   "outputs": [
    {
     "name": "stdout",
     "output_type": "stream",
     "text": [
      "enchufar la lampara\n",
      "cambiar foco\n",
      "ya cambia  tu lámpara ya\n"
     ]
    }
   ],
   "source": [
    "lampara_desenchufada = True\n",
    "foco_no_quemado = True\n",
    "\n",
    "lampara_malograda = False\n",
    "\n",
    "if lampara_desenchufada:\n",
    "    print(\"enchufar la lámpara\")\n",
    "if foco_no_quemado:\n",
    "    print(\"cambiar foco\")\n",
    "if lampara_malograda:\n",
    "    print(\"reparar lámpara\")\n",
    "else:\n",
    "    print(\"ya cambia  tu lámpara ya\")"
   ]
  },
  {
   "cell_type": "markdown",
   "metadata": {},
   "source": [
    "## Statements en bucle"
   ]
  },
  {
   "cell_type": "markdown",
   "metadata": {},
   "source": [
    "### ``` for ``` loops\n",
    "\n",
    "Los for loops sirven para **repetir** una misma acción en una serie de valores. Es decir, el for **itera** a través de valores\n",
    "\n",
    "La estructura de los ```for``` es:\n",
    "\n",
    "```python\n",
    "for valor in <grupo de valores>:\n",
    "    hacer algo\n",
    "\n",
    "```"
   ]
  },
  {
   "cell_type": "code",
   "execution_count": 36,
   "metadata": {},
   "outputs": [
    {
     "name": "stdout",
     "output_type": "stream",
     "text": [
      "hoy tengo 5, en 5 años tendré 10\n",
      "hoy tengo 17, en 5 años tendré 22\n",
      "hoy tengo 33, en 5 años tendré 38\n",
      "hoy tengo 45, en 5 años tendré 50\n",
      "hoy tengo 60, en 5 años tendré 65\n"
     ]
    }
   ],
   "source": [
    "edades = [5, 17, 33, 45, 60]\n",
    "\n",
    "for edad in edades:\n",
    "    edad_mayor = edad + 5\n",
    "    print(\"hoy tengo \" + str(edad) + \", en 5 años tendré \" + str(edad_mayor))\n",
    "    "
   ]
  },
  {
   "cell_type": "code",
   "execution_count": 27,
   "metadata": {},
   "outputs": [
    {
     "name": "stdout",
     "output_type": "stream",
     "text": [
      "1\n",
      "3\n",
      "5\n",
      "7\n",
      "9\n",
      "25\n"
     ]
    }
   ],
   "source": [
    "total = 0\n",
    "for i in range(1, 11):\n",
    "    print(i)\n",
    "    total += i\n",
    "print(\"el total es\", total) "
   ]
  },
  {
   "cell_type": "markdown",
   "metadata": {},
   "source": [
    " #### OJO!!!! : cuando esten iterando por una lista, no modifiquen la misma lista!!!! : NO HAGAN ESTOOO:"
   ]
  },
  {
   "cell_type": "code",
   "execution_count": 41,
   "metadata": {},
   "outputs": [
    {
     "name": "stdout",
     "output_type": "stream",
     "text": [
      "[5, 17, 33, 45, 60]\n",
      "[5, 17, 33, 60]\n",
      "[5, 17, 33]\n"
     ]
    },
    {
     "ename": "IndexError",
     "evalue": "pop index out of range",
     "output_type": "error",
     "traceback": [
      "\u001b[0;31m---------------------------------------------------------------------------\u001b[0m",
      "\u001b[0;31mIndexError\u001b[0m                                Traceback (most recent call last)",
      "\u001b[0;32m<ipython-input-41-8336de8ca0f2>\u001b[0m in \u001b[0;36m<module>\u001b[0;34m\u001b[0m\n\u001b[1;32m      2\u001b[0m \u001b[0;32mfor\u001b[0m \u001b[0melem\u001b[0m \u001b[0;32min\u001b[0m \u001b[0medades\u001b[0m\u001b[0;34m:\u001b[0m\u001b[0;34m\u001b[0m\u001b[0;34m\u001b[0m\u001b[0m\n\u001b[1;32m      3\u001b[0m     \u001b[0mprint\u001b[0m\u001b[0;34m(\u001b[0m\u001b[0medades\u001b[0m\u001b[0;34m)\u001b[0m\u001b[0;34m\u001b[0m\u001b[0;34m\u001b[0m\u001b[0m\n\u001b[0;32m----> 4\u001b[0;31m     \u001b[0medades\u001b[0m\u001b[0;34m.\u001b[0m\u001b[0mpop\u001b[0m\u001b[0;34m(\u001b[0m\u001b[0;36m3\u001b[0m\u001b[0;34m)\u001b[0m   \u001b[0;31m#### NUNCA HAGAN ESTOOOO\u001b[0m\u001b[0;34m\u001b[0m\u001b[0;34m\u001b[0m\u001b[0m\n\u001b[0m",
      "\u001b[0;31mIndexError\u001b[0m: pop index out of range"
     ]
    }
   ],
   "source": [
    "edades = [5, 17, 33, 45, 60]\n",
    "for elem in edades:\n",
    "    print(edades)\n",
    "    edades.pop(3)   #### NUNCA HAGAN ESTOOOO"
   ]
  },
  {
   "cell_type": "markdown",
   "metadata": {},
   "source": [
    "LO MEJOR ES CREAR UNA LISTA NUEVA SI QUEREMOS MODIFICAR LA ANTIGUA"
   ]
  },
  {
   "cell_type": "code",
   "execution_count": 44,
   "metadata": {},
   "outputs": [
    {
     "name": "stdout",
     "output_type": "stream",
     "text": [
      "[10, 22, 38, 50, 65]\n",
      "[5, 17, 33, 45, 60]\n"
     ]
    }
   ],
   "source": [
    "edades = [5, 17, 33, 45, 60]\n",
    "\n",
    "new_lst = []\n",
    "\n",
    "for edad in edades:\n",
    "    edad +=5\n",
    "    new_lst.append(edad) ## se puede usar los métodos \n",
    "print(new_lst)\n",
    "print(edades) ## el término \"edad\" no modifica la lista en sí"
   ]
  },
  {
   "cell_type": "markdown",
   "metadata": {},
   "source": [
    "Podemos introducir statements condicionales a nuestros `for` loops"
   ]
  },
  {
   "cell_type": "code",
   "execution_count": 46,
   "metadata": {},
   "outputs": [
    {
     "name": "stdout",
     "output_type": "stream",
     "text": [
      "6\n",
      "18\n",
      "33\n",
      "45\n",
      "60\n"
     ]
    }
   ],
   "source": [
    "edades = [5, 17, 33, 45, 60]\n",
    "\n",
    "for edad in edades:\n",
    "    if edad > 20:\n",
    "        print(edad)\n",
    "    else:\n",
    "        edad += 1\n",
    "        print(edad)\n"
   ]
  },
  {
   "cell_type": "code",
   "execution_count": 49,
   "metadata": {},
   "outputs": [
    {
     "name": "stdout",
     "output_type": "stream",
     "text": [
      "mi ingreso es 10000 mi impuesto es 800.0\n",
      "mi ingreso es 20000 mi impuesto es 1600.0\n",
      "mi ingreso es 50000 mi impuesto es 7000.000000000001\n",
      "mi ingreso es 120000 mi impuesto es 16800.0\n",
      "mi ingreso es 1000000 mi impuesto es 140000.0\n",
      "mi ingreso es 6000000 mi impuesto es 840000.0000000001\n"
     ]
    }
   ],
   "source": [
    "\n",
    "ingreso_anual = [10000, 20000, 50000, 120000, 1000000, 6000000]\n",
    "uit = 4400\n",
    "\n",
    "for ingreso in ingreso_anual:\n",
    "    if ingreso <= 5 * uit:\n",
    "        impuesto = 0.08 * ingreso\n",
    "        print(\"si mi ingreso es\", str(ingreso), \"mi impuesto es\", str(impuesto))\n",
    "    elif ingreso > 5 * uit & ingreso <= 20 * uit:\n",
    "        impuesto = 0.14 * ingreso\n",
    "        print(\"si mi ingreso es\", str(ingreso), \"mi impuesto es\", str(impuesto))\n",
    "    elif ingreso > 20 * uit & ingreso <= 35 * uit:\n",
    "        impuesto = 0.17 * ingreso\n",
    "        print(\"si mi ingreso es\", str(ingreso), \"mi impuesto es\", str(impuesto))\n",
    "    elif ingreso > 35 * uit & ingreso <= 45 * uit:\n",
    "        impuesto = 0.2 * ingreso\n",
    "        print(\"si mi ingreso es\", str(ingreso), \"mi impuesto es\", str(impuesto))      \n",
    "    else:\n",
    "        impuesto = 0.3 * ingreso\n",
    "        print(\"si mi ingreso es\", str(ingreso), \"mi impuesto es\", str(impuesto))"
   ]
  },
  {
   "cell_type": "markdown",
   "metadata": {},
   "source": [
    "### Loops anidados\n",
    "\n",
    "Son los loops dentro de loops. En el ejemplo, imaginemos que queramos exponenciar los elementos de ```lst_a``` por los elementos de la ```lst_b```"
   ]
  },
  {
   "cell_type": "code",
   "execution_count": 53,
   "metadata": {},
   "outputs": [
    {
     "name": "stdout",
     "output_type": "stream",
     "text": [
      "1 elevado  al valor de 2 es 1\n",
      "1 elevado  al valor de 3 es 1\n",
      "2 elevado  al valor de 2 es 4\n",
      "2 elevado  al valor de 3 es 8\n",
      "3 elevado  al valor de 2 es 9\n",
      "3 elevado  al valor de 3 es 27\n",
      "4 elevado  al valor de 2 es 16\n",
      "4 elevado  al valor de 3 es 64\n",
      "5 elevado  al valor de 2 es 25\n",
      "5 elevado  al valor de 3 es 125\n"
     ]
    }
   ],
   "source": [
    "lst_a = [1, 2, 3, 4, 5]\n",
    "lst_b  = [2, 3]\n",
    "\n",
    "for num in lst_a:\n",
    "    for exp in lst_b:\n",
    "        result = num ** exp\n",
    "        print(str(num) + \" elevado  al valor de \" + str(exp) + \" es \" + str(result))"
   ]
  },
  {
   "cell_type": "markdown",
   "metadata": {},
   "source": [
    "###  ```while``` loops\n",
    "\n",
    "Los while loops repiten una acción siempre y cuando **se cumpla** una condición. La estructura de esta operación es:\n",
    "\n",
    "```python\n",
    "while condicion is True:\n",
    "    repetir una acción\n",
    "    hasta que la condicion sea False\n",
    "\n",
    "```"
   ]
  },
  {
   "cell_type": "code",
   "execution_count": 57,
   "metadata": {},
   "outputs": [
    {
     "name": "stdout",
     "output_type": "stream",
     "text": [
      "Me alcanzan para 15 juegos y me gasté 105 soles\n"
     ]
    }
   ],
   "source": [
    "ingresos = 100\n",
    "gastos = 0\n",
    "\n",
    "juegos_switch = 7\n",
    "\n",
    "juegos_que_compre = 0\n",
    "\n",
    "while gastos < ingresos:\n",
    "    gastos += juegos_switch\n",
    "    juegos_que_compre += 1\n",
    "    \n",
    "print(f'Me alcanzan para {juegos_que_compre} juegos y me gasté {gastos} soles')\n",
    "\n"
   ]
  }
 ],
 "metadata": {
  "kernelspec": {
   "display_name": "Python 3",
   "language": "python",
   "name": "python3"
  },
  "language_info": {
   "codemirror_mode": {
    "name": "ipython",
    "version": 3
   },
   "file_extension": ".py",
   "mimetype": "text/x-python",
   "name": "python",
   "nbconvert_exporter": "python",
   "pygments_lexer": "ipython3",
   "version": "3.8.5"
  }
 },
 "nbformat": 4,
 "nbformat_minor": 4
}
