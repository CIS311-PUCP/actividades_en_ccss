{
 "cells": [
  {
   "cell_type": "markdown",
   "metadata": {},
   "source": [
    "# Pandas (Parte 3)"
   ]
  },
  {
   "cell_type": "code",
   "execution_count": 50,
   "metadata": {},
   "outputs": [],
   "source": [
    "import pandas as pd\n",
    "import numpy as np"
   ]
  },
  {
   "cell_type": "code",
   "execution_count": 2,
   "metadata": {},
   "outputs": [],
   "source": [
    "locacion_datos = \"https://otorongo.club/2021/json/ingresos/\"\n",
    "\n",
    "cong = pd.read_json(locacion_datos)"
   ]
  },
  {
   "cell_type": "code",
   "execution_count": 7,
   "metadata": {},
   "outputs": [],
   "source": [
    "cong_1 = cong[['dni', 'total_ingreso']]\n",
    "\n",
    "cong_2 = cong[['dni', 'partido']]\n",
    "\n",
    "solo_vn = cong_2.loc[cong_2['partido'] == 'VICTORIA NACIONAL', :]"
   ]
  },
  {
   "cell_type": "markdown",
   "metadata": {},
   "source": [
    "Cómo es un outer merge? "
   ]
  },
  {
   "cell_type": "code",
   "execution_count": 11,
   "metadata": {},
   "outputs": [
    {
     "data": {
      "text/html": [
       "<div>\n",
       "<style scoped>\n",
       "    .dataframe tbody tr th:only-of-type {\n",
       "        vertical-align: middle;\n",
       "    }\n",
       "\n",
       "    .dataframe tbody tr th {\n",
       "        vertical-align: top;\n",
       "    }\n",
       "\n",
       "    .dataframe thead th {\n",
       "        text-align: right;\n",
       "    }\n",
       "</style>\n",
       "<table border=\"1\" class=\"dataframe\">\n",
       "  <thead>\n",
       "    <tr style=\"text-align: right;\">\n",
       "      <th></th>\n",
       "      <th>dni</th>\n",
       "      <th>total_ingreso</th>\n",
       "      <th>partido</th>\n",
       "    </tr>\n",
       "  </thead>\n",
       "  <tbody>\n",
       "    <tr>\n",
       "      <th>0</th>\n",
       "      <td>27428781</td>\n",
       "      <td>57560800</td>\n",
       "      <td>VICTORIA NACIONAL</td>\n",
       "    </tr>\n",
       "    <tr>\n",
       "      <th>1</th>\n",
       "      <td>7246887</td>\n",
       "      <td>12428083</td>\n",
       "      <td>NaN</td>\n",
       "    </tr>\n",
       "    <tr>\n",
       "      <th>2</th>\n",
       "      <td>7818712</td>\n",
       "      <td>10998927</td>\n",
       "      <td>NaN</td>\n",
       "    </tr>\n",
       "    <tr>\n",
       "      <th>3</th>\n",
       "      <td>17903382</td>\n",
       "      <td>9571448</td>\n",
       "      <td>NaN</td>\n",
       "    </tr>\n",
       "    <tr>\n",
       "      <th>4</th>\n",
       "      <td>19873483</td>\n",
       "      <td>7740000</td>\n",
       "      <td>NaN</td>\n",
       "    </tr>\n",
       "    <tr>\n",
       "      <th>...</th>\n",
       "      <td>...</td>\n",
       "      <td>...</td>\n",
       "      <td>...</td>\n",
       "    </tr>\n",
       "    <tr>\n",
       "      <th>3311</th>\n",
       "      <td>44720712</td>\n",
       "      <td>0</td>\n",
       "      <td>NaN</td>\n",
       "    </tr>\n",
       "    <tr>\n",
       "      <th>3312</th>\n",
       "      <td>8505376</td>\n",
       "      <td>0</td>\n",
       "      <td>NaN</td>\n",
       "    </tr>\n",
       "    <tr>\n",
       "      <th>3313</th>\n",
       "      <td>48855918</td>\n",
       "      <td>0</td>\n",
       "      <td>NaN</td>\n",
       "    </tr>\n",
       "    <tr>\n",
       "      <th>3314</th>\n",
       "      <td>70013249</td>\n",
       "      <td>0</td>\n",
       "      <td>NaN</td>\n",
       "    </tr>\n",
       "    <tr>\n",
       "      <th>3315</th>\n",
       "      <td>72765718</td>\n",
       "      <td>0</td>\n",
       "      <td>NaN</td>\n",
       "    </tr>\n",
       "  </tbody>\n",
       "</table>\n",
       "<p>3316 rows × 3 columns</p>\n",
       "</div>"
      ],
      "text/plain": [
       "           dni  total_ingreso            partido\n",
       "0     27428781       57560800  VICTORIA NACIONAL\n",
       "1      7246887       12428083                NaN\n",
       "2      7818712       10998927                NaN\n",
       "3     17903382        9571448                NaN\n",
       "4     19873483        7740000                NaN\n",
       "...        ...            ...                ...\n",
       "3311  44720712              0                NaN\n",
       "3312   8505376              0                NaN\n",
       "3313  48855918              0                NaN\n",
       "3314  70013249              0                NaN\n",
       "3315  72765718              0                NaN\n",
       "\n",
       "[3316 rows x 3 columns]"
      ]
     },
     "execution_count": 11,
     "metadata": {},
     "output_type": "execute_result"
    }
   ],
   "source": [
    "resultado_merge_vn = pd.merge(cong_1,\n",
    "                     solo_vn,\n",
    "                    left_on = 'dni',\n",
    "                    right_on = 'dni',\n",
    "                    how = 'outer')\n",
    "\n",
    "resultado_merge_vn\n",
    "#resultado_merge_vn.loc[resultado_merge_vn['partido'] != 'VICTORIA NACIONAL']\n",
    "#resultado_merge_vn.loc[resultado_merge_vn['partido'] == 'VICTORIA NACIONAL']"
   ]
  },
  {
   "cell_type": "markdown",
   "metadata": {},
   "source": [
    "Cómo es un left merge? Y un right merge? \n"
   ]
  },
  {
   "cell_type": "code",
   "execution_count": 14,
   "metadata": {},
   "outputs": [
    {
     "data": {
      "text/html": [
       "<div>\n",
       "<style scoped>\n",
       "    .dataframe tbody tr th:only-of-type {\n",
       "        vertical-align: middle;\n",
       "    }\n",
       "\n",
       "    .dataframe tbody tr th {\n",
       "        vertical-align: top;\n",
       "    }\n",
       "\n",
       "    .dataframe thead th {\n",
       "        text-align: right;\n",
       "    }\n",
       "</style>\n",
       "<table border=\"1\" class=\"dataframe\">\n",
       "  <thead>\n",
       "    <tr style=\"text-align: right;\">\n",
       "      <th></th>\n",
       "      <th>dni</th>\n",
       "      <th>total_ingreso</th>\n",
       "      <th>partido</th>\n",
       "    </tr>\n",
       "  </thead>\n",
       "  <tbody>\n",
       "    <tr>\n",
       "      <th>0</th>\n",
       "      <td>27428781</td>\n",
       "      <td>57560800</td>\n",
       "      <td>VICTORIA NACIONAL</td>\n",
       "    </tr>\n",
       "    <tr>\n",
       "      <th>1</th>\n",
       "      <td>7246887</td>\n",
       "      <td>12428083</td>\n",
       "      <td>NaN</td>\n",
       "    </tr>\n",
       "    <tr>\n",
       "      <th>2</th>\n",
       "      <td>7818712</td>\n",
       "      <td>10998927</td>\n",
       "      <td>NaN</td>\n",
       "    </tr>\n",
       "    <tr>\n",
       "      <th>3</th>\n",
       "      <td>17903382</td>\n",
       "      <td>9571448</td>\n",
       "      <td>NaN</td>\n",
       "    </tr>\n",
       "    <tr>\n",
       "      <th>4</th>\n",
       "      <td>19873483</td>\n",
       "      <td>7740000</td>\n",
       "      <td>NaN</td>\n",
       "    </tr>\n",
       "    <tr>\n",
       "      <th>...</th>\n",
       "      <td>...</td>\n",
       "      <td>...</td>\n",
       "      <td>...</td>\n",
       "    </tr>\n",
       "    <tr>\n",
       "      <th>3311</th>\n",
       "      <td>44720712</td>\n",
       "      <td>0</td>\n",
       "      <td>NaN</td>\n",
       "    </tr>\n",
       "    <tr>\n",
       "      <th>3312</th>\n",
       "      <td>8505376</td>\n",
       "      <td>0</td>\n",
       "      <td>NaN</td>\n",
       "    </tr>\n",
       "    <tr>\n",
       "      <th>3313</th>\n",
       "      <td>48855918</td>\n",
       "      <td>0</td>\n",
       "      <td>NaN</td>\n",
       "    </tr>\n",
       "    <tr>\n",
       "      <th>3314</th>\n",
       "      <td>70013249</td>\n",
       "      <td>0</td>\n",
       "      <td>NaN</td>\n",
       "    </tr>\n",
       "    <tr>\n",
       "      <th>3315</th>\n",
       "      <td>72765718</td>\n",
       "      <td>0</td>\n",
       "      <td>NaN</td>\n",
       "    </tr>\n",
       "  </tbody>\n",
       "</table>\n",
       "<p>3316 rows × 3 columns</p>\n",
       "</div>"
      ],
      "text/plain": [
       "           dni  total_ingreso            partido\n",
       "0     27428781       57560800  VICTORIA NACIONAL\n",
       "1      7246887       12428083                NaN\n",
       "2      7818712       10998927                NaN\n",
       "3     17903382        9571448                NaN\n",
       "4     19873483        7740000                NaN\n",
       "...        ...            ...                ...\n",
       "3311  44720712              0                NaN\n",
       "3312   8505376              0                NaN\n",
       "3313  48855918              0                NaN\n",
       "3314  70013249              0                NaN\n",
       "3315  72765718              0                NaN\n",
       "\n",
       "[3316 rows x 3 columns]"
      ]
     },
     "execution_count": 14,
     "metadata": {},
     "output_type": "execute_result"
    }
   ],
   "source": [
    "resultado_merge_vn = pd.merge(cong_1,\n",
    "                     solo_vn,\n",
    "                    left_on = 'dni',\n",
    "                    right_on = 'dni',\n",
    "                    how = 'left')\n",
    "#                    how = 'right')\n",
    "\n",
    "resultado_merge_vn"
   ]
  },
  {
   "cell_type": "markdown",
   "metadata": {},
   "source": [
    "### Uniendo varias bases de datos verticalmente (append)\n",
    "\n",
    "En pandas, este método se llama concat. "
   ]
  },
  {
   "cell_type": "code",
   "execution_count": 22,
   "metadata": {},
   "outputs": [],
   "source": [
    "df_partidos = {}\n",
    "for cat in cong['partido'].unique():\n",
    "    df = cong.loc[cong['partido'] == cat]\n",
    "    df_partidos[cat] = df"
   ]
  },
  {
   "cell_type": "code",
   "execution_count": 29,
   "metadata": {},
   "outputs": [],
   "source": [
    "df_fp = df_partidos['FUERZA POPULAR']\n",
    "df_vn = df_partidos['VICTORIA NACIONAL']"
   ]
  },
  {
   "cell_type": "code",
   "execution_count": 31,
   "metadata": {},
   "outputs": [],
   "source": [
    "df_append = pd.concat([df_vn,df_fp])"
   ]
  },
  {
   "cell_type": "code",
   "execution_count": 33,
   "metadata": {},
   "outputs": [],
   "source": [
    "#df_append"
   ]
  },
  {
   "cell_type": "code",
   "execution_count": 35,
   "metadata": {},
   "outputs": [],
   "source": [
    "df_append = pd.concat([df_partidos['FUERZA POPULAR'], df_partidos['VICTORIA NACIONAL']])"
   ]
  },
  {
   "cell_type": "markdown",
   "metadata": {},
   "source": [
    "### Limpieza de datos (parte 2)"
   ]
  },
  {
   "cell_type": "markdown",
   "metadata": {},
   "source": [
    "Eliminando columnas"
   ]
  },
  {
   "cell_type": "code",
   "execution_count": 16,
   "metadata": {},
   "outputs": [],
   "source": [
    "#Creando (y eliminando) una columna que refleja un mal cálculo\n",
    "cong['calculo_mal_hecho'] = cong.eval('ingreso_publico + ingreso_privado')"
   ]
  },
  {
   "cell_type": "code",
   "execution_count": 20,
   "metadata": {},
   "outputs": [],
   "source": [
    "cong.drop(columns = 'calculo_mal_hecho', inplace = True)\n"
   ]
  },
  {
   "cell_type": "markdown",
   "metadata": {},
   "source": [
    "Identificando (y eliminando) duplicados:"
   ]
  },
  {
   "cell_type": "code",
   "execution_count": 36,
   "metadata": {},
   "outputs": [],
   "source": [
    "nueva_df = pd.concat([cong, cong])"
   ]
  },
  {
   "cell_type": "code",
   "execution_count": 38,
   "metadata": {},
   "outputs": [
    {
     "data": {
      "text/html": [
       "<div>\n",
       "<style scoped>\n",
       "    .dataframe tbody tr th:only-of-type {\n",
       "        vertical-align: middle;\n",
       "    }\n",
       "\n",
       "    .dataframe tbody tr th {\n",
       "        vertical-align: top;\n",
       "    }\n",
       "\n",
       "    .dataframe thead th {\n",
       "        text-align: right;\n",
       "    }\n",
       "</style>\n",
       "<table border=\"1\" class=\"dataframe\">\n",
       "  <thead>\n",
       "    <tr style=\"text-align: right;\">\n",
       "      <th></th>\n",
       "      <th>nombre</th>\n",
       "      <th>dni</th>\n",
       "      <th>partido</th>\n",
       "      <th>total_ingreso</th>\n",
       "      <th>ingreso_publico</th>\n",
       "      <th>ingreso_privado</th>\n",
       "      <th>renta_publico</th>\n",
       "      <th>renta_privado</th>\n",
       "      <th>otro_ingreso_publico</th>\n",
       "      <th>otro_ingreso_privado</th>\n",
       "    </tr>\n",
       "  </thead>\n",
       "  <tbody>\n",
       "    <tr>\n",
       "      <th>0</th>\n",
       "      <td>SEMPERTEGUI ILATOMA GILBERTO</td>\n",
       "      <td>27428781</td>\n",
       "      <td>VICTORIA NACIONAL</td>\n",
       "      <td>57560800</td>\n",
       "      <td>2710800</td>\n",
       "      <td>14400000</td>\n",
       "      <td>0</td>\n",
       "      <td>0</td>\n",
       "      <td>0</td>\n",
       "      <td>40450000</td>\n",
       "    </tr>\n",
       "    <tr>\n",
       "      <th>1</th>\n",
       "      <td>LUNA GALVEZ JOSE LEON</td>\n",
       "      <td>7246887</td>\n",
       "      <td>PODEMOS PERU</td>\n",
       "      <td>12428083</td>\n",
       "      <td>0</td>\n",
       "      <td>1732402</td>\n",
       "      <td>0</td>\n",
       "      <td>0</td>\n",
       "      <td>0</td>\n",
       "      <td>10695681</td>\n",
       "    </tr>\n",
       "    <tr>\n",
       "      <th>2</th>\n",
       "      <td>KUOMAN SAAVEDRA DAVID</td>\n",
       "      <td>7818712</td>\n",
       "      <td>RENOVACION POPULAR</td>\n",
       "      <td>10998927</td>\n",
       "      <td>0</td>\n",
       "      <td>92096</td>\n",
       "      <td>0</td>\n",
       "      <td>0</td>\n",
       "      <td>0</td>\n",
       "      <td>10906831</td>\n",
       "    </tr>\n",
       "    <tr>\n",
       "      <th>3</th>\n",
       "      <td>ACUÑA PERALTA CESAR</td>\n",
       "      <td>17903382</td>\n",
       "      <td>ALIANZA PARA EL PROGRESO</td>\n",
       "      <td>9571448</td>\n",
       "      <td>0</td>\n",
       "      <td>3063448</td>\n",
       "      <td>0</td>\n",
       "      <td>0</td>\n",
       "      <td>0</td>\n",
       "      <td>6508000</td>\n",
       "    </tr>\n",
       "    <tr>\n",
       "      <th>4</th>\n",
       "      <td>OTIVO MANTURANO TITO ALBERTICO</td>\n",
       "      <td>19873483</td>\n",
       "      <td>RENACIMIENTO UNIDO NACIONAL</td>\n",
       "      <td>7740000</td>\n",
       "      <td>3060000</td>\n",
       "      <td>0</td>\n",
       "      <td>0</td>\n",
       "      <td>1800000</td>\n",
       "      <td>0</td>\n",
       "      <td>2880000</td>\n",
       "    </tr>\n",
       "  </tbody>\n",
       "</table>\n",
       "</div>"
      ],
      "text/plain": [
       "                           nombre       dni                      partido  \\\n",
       "0    SEMPERTEGUI ILATOMA GILBERTO  27428781            VICTORIA NACIONAL   \n",
       "1           LUNA GALVEZ JOSE LEON   7246887                 PODEMOS PERU   \n",
       "2           KUOMAN SAAVEDRA DAVID   7818712           RENOVACION POPULAR   \n",
       "3             ACUÑA PERALTA CESAR  17903382     ALIANZA PARA EL PROGRESO   \n",
       "4  OTIVO MANTURANO TITO ALBERTICO  19873483  RENACIMIENTO UNIDO NACIONAL   \n",
       "\n",
       "   total_ingreso  ingreso_publico  ingreso_privado  renta_publico  \\\n",
       "0       57560800          2710800         14400000              0   \n",
       "1       12428083                0          1732402              0   \n",
       "2       10998927                0            92096              0   \n",
       "3        9571448                0          3063448              0   \n",
       "4        7740000          3060000                0              0   \n",
       "\n",
       "   renta_privado  otro_ingreso_publico  otro_ingreso_privado  \n",
       "0              0                     0              40450000  \n",
       "1              0                     0              10695681  \n",
       "2              0                     0              10906831  \n",
       "3              0                     0               6508000  \n",
       "4        1800000                     0               2880000  "
      ]
     },
     "execution_count": 38,
     "metadata": {},
     "output_type": "execute_result"
    }
   ],
   "source": [
    "nueva_df.head(5)"
   ]
  },
  {
   "cell_type": "code",
   "execution_count": 40,
   "metadata": {},
   "outputs": [
    {
     "data": {
      "text/plain": [
       "nombre                  3316\n",
       "dni                     3316\n",
       "partido                   22\n",
       "total_ingreso           1480\n",
       "ingreso_publico          655\n",
       "ingreso_privado          477\n",
       "renta_publico            247\n",
       "renta_privado            464\n",
       "otro_ingreso_publico      84\n",
       "otro_ingreso_privado     295\n",
       "dtype: int64"
      ]
     },
     "execution_count": 40,
     "metadata": {},
     "output_type": "execute_result"
    }
   ],
   "source": [
    "nueva_df.nunique()"
   ]
  },
  {
   "cell_type": "code",
   "execution_count": 41,
   "metadata": {},
   "outputs": [
    {
     "data": {
      "text/plain": [
       "nombre                  3316\n",
       "dni                     3316\n",
       "partido                   22\n",
       "total_ingreso           1480\n",
       "ingreso_publico          655\n",
       "ingreso_privado          477\n",
       "renta_publico            247\n",
       "renta_privado            464\n",
       "otro_ingreso_publico      84\n",
       "otro_ingreso_privado     295\n",
       "dtype: int64"
      ]
     },
     "execution_count": 41,
     "metadata": {},
     "output_type": "execute_result"
    }
   ],
   "source": [
    "nueva_df.nunique(dropna=False)"
   ]
  },
  {
   "cell_type": "code",
   "execution_count": 42,
   "metadata": {},
   "outputs": [
    {
     "data": {
      "text/plain": [
       "(3316, 10)"
      ]
     },
     "execution_count": 42,
     "metadata": {},
     "output_type": "execute_result"
    }
   ],
   "source": [
    "## Cuales son las dimensiones de nuestra dataframe si eliminamos las observaciones duplicadas\n",
    "nueva_df.drop_duplicates().shape"
   ]
  },
  {
   "cell_type": "code",
   "execution_count": 43,
   "metadata": {},
   "outputs": [
    {
     "data": {
      "text/plain": [
       "(6632, 10)"
      ]
     },
     "execution_count": 43,
     "metadata": {},
     "output_type": "execute_result"
    }
   ],
   "source": [
    "nueva_df.shape"
   ]
  },
  {
   "cell_type": "code",
   "execution_count": 46,
   "metadata": {},
   "outputs": [
    {
     "data": {
      "text/html": [
       "<div>\n",
       "<style scoped>\n",
       "    .dataframe tbody tr th:only-of-type {\n",
       "        vertical-align: middle;\n",
       "    }\n",
       "\n",
       "    .dataframe tbody tr th {\n",
       "        vertical-align: top;\n",
       "    }\n",
       "\n",
       "    .dataframe thead th {\n",
       "        text-align: right;\n",
       "    }\n",
       "</style>\n",
       "<table border=\"1\" class=\"dataframe\">\n",
       "  <thead>\n",
       "    <tr style=\"text-align: right;\">\n",
       "      <th></th>\n",
       "      <th>nombre</th>\n",
       "      <th>dni</th>\n",
       "      <th>partido</th>\n",
       "      <th>total_ingreso</th>\n",
       "      <th>ingreso_publico</th>\n",
       "      <th>ingreso_privado</th>\n",
       "      <th>renta_publico</th>\n",
       "      <th>renta_privado</th>\n",
       "      <th>otro_ingreso_publico</th>\n",
       "      <th>otro_ingreso_privado</th>\n",
       "    </tr>\n",
       "  </thead>\n",
       "  <tbody>\n",
       "    <tr>\n",
       "      <th>0</th>\n",
       "      <td>SEMPERTEGUI ILATOMA GILBERTO</td>\n",
       "      <td>27428781</td>\n",
       "      <td>VICTORIA NACIONAL</td>\n",
       "      <td>57560800</td>\n",
       "      <td>2710800</td>\n",
       "      <td>14400000</td>\n",
       "      <td>0</td>\n",
       "      <td>0</td>\n",
       "      <td>0</td>\n",
       "      <td>40450000</td>\n",
       "    </tr>\n",
       "    <tr>\n",
       "      <th>1</th>\n",
       "      <td>LUNA GALVEZ JOSE LEON</td>\n",
       "      <td>7246887</td>\n",
       "      <td>PODEMOS PERU</td>\n",
       "      <td>12428083</td>\n",
       "      <td>0</td>\n",
       "      <td>1732402</td>\n",
       "      <td>0</td>\n",
       "      <td>0</td>\n",
       "      <td>0</td>\n",
       "      <td>10695681</td>\n",
       "    </tr>\n",
       "    <tr>\n",
       "      <th>2</th>\n",
       "      <td>KUOMAN SAAVEDRA DAVID</td>\n",
       "      <td>7818712</td>\n",
       "      <td>RENOVACION POPULAR</td>\n",
       "      <td>10998927</td>\n",
       "      <td>0</td>\n",
       "      <td>92096</td>\n",
       "      <td>0</td>\n",
       "      <td>0</td>\n",
       "      <td>0</td>\n",
       "      <td>10906831</td>\n",
       "    </tr>\n",
       "    <tr>\n",
       "      <th>3</th>\n",
       "      <td>ACUÑA PERALTA CESAR</td>\n",
       "      <td>17903382</td>\n",
       "      <td>ALIANZA PARA EL PROGRESO</td>\n",
       "      <td>9571448</td>\n",
       "      <td>0</td>\n",
       "      <td>3063448</td>\n",
       "      <td>0</td>\n",
       "      <td>0</td>\n",
       "      <td>0</td>\n",
       "      <td>6508000</td>\n",
       "    </tr>\n",
       "    <tr>\n",
       "      <th>4</th>\n",
       "      <td>OTIVO MANTURANO TITO ALBERTICO</td>\n",
       "      <td>19873483</td>\n",
       "      <td>RENACIMIENTO UNIDO NACIONAL</td>\n",
       "      <td>7740000</td>\n",
       "      <td>3060000</td>\n",
       "      <td>0</td>\n",
       "      <td>0</td>\n",
       "      <td>1800000</td>\n",
       "      <td>0</td>\n",
       "      <td>2880000</td>\n",
       "    </tr>\n",
       "  </tbody>\n",
       "</table>\n",
       "</div>"
      ],
      "text/plain": [
       "                           nombre       dni                      partido  \\\n",
       "0    SEMPERTEGUI ILATOMA GILBERTO  27428781            VICTORIA NACIONAL   \n",
       "1           LUNA GALVEZ JOSE LEON   7246887                 PODEMOS PERU   \n",
       "2           KUOMAN SAAVEDRA DAVID   7818712           RENOVACION POPULAR   \n",
       "3             ACUÑA PERALTA CESAR  17903382     ALIANZA PARA EL PROGRESO   \n",
       "4  OTIVO MANTURANO TITO ALBERTICO  19873483  RENACIMIENTO UNIDO NACIONAL   \n",
       "\n",
       "   total_ingreso  ingreso_publico  ingreso_privado  renta_publico  \\\n",
       "0       57560800          2710800         14400000              0   \n",
       "1       12428083                0          1732402              0   \n",
       "2       10998927                0            92096              0   \n",
       "3        9571448                0          3063448              0   \n",
       "4        7740000          3060000                0              0   \n",
       "\n",
       "   renta_privado  otro_ingreso_publico  otro_ingreso_privado  \n",
       "0              0                     0              40450000  \n",
       "1              0                     0              10695681  \n",
       "2              0                     0              10906831  \n",
       "3              0                     0               6508000  \n",
       "4        1800000                     0               2880000  "
      ]
     },
     "execution_count": 46,
     "metadata": {},
     "output_type": "execute_result"
    }
   ],
   "source": [
    "sin_duplicados = nueva_df.drop_duplicates(subset='dni')\n",
    "sin_duplicados.head(5)"
   ]
  },
  {
   "cell_type": "code",
   "execution_count": 47,
   "metadata": {},
   "outputs": [],
   "source": [
    "sin_duplicados_2 = nueva_df.drop_duplicates(subset=['dni','partido'])\n"
   ]
  },
  {
   "cell_type": "markdown",
   "metadata": {},
   "source": [
    "### Manejando valores perdidos (missing)\n",
    "\n",
    "A continuación veremos cómo manejar valores perdidos (missing). Veremos 3 métodos en especial:\n",
    "- ` isna`\n",
    "- `dropna`\n",
    "- `fillna`"
   ]
  },
  {
   "cell_type": "code",
   "execution_count": 80,
   "metadata": {},
   "outputs": [],
   "source": [
    "cong_m = cong.copy(deep = True)"
   ]
  },
  {
   "cell_type": "code",
   "execution_count": 81,
   "metadata": {},
   "outputs": [],
   "source": [
    "cong_m.replace({0:np.nan}, inplace = True)"
   ]
  },
  {
   "cell_type": "code",
   "execution_count": 82,
   "metadata": {},
   "outputs": [
    {
     "data": {
      "text/html": [
       "<div>\n",
       "<style scoped>\n",
       "    .dataframe tbody tr th:only-of-type {\n",
       "        vertical-align: middle;\n",
       "    }\n",
       "\n",
       "    .dataframe tbody tr th {\n",
       "        vertical-align: top;\n",
       "    }\n",
       "\n",
       "    .dataframe thead th {\n",
       "        text-align: right;\n",
       "    }\n",
       "</style>\n",
       "<table border=\"1\" class=\"dataframe\">\n",
       "  <thead>\n",
       "    <tr style=\"text-align: right;\">\n",
       "      <th></th>\n",
       "      <th>nombre</th>\n",
       "      <th>dni</th>\n",
       "      <th>partido</th>\n",
       "      <th>total_ingreso</th>\n",
       "      <th>ingreso_publico</th>\n",
       "      <th>ingreso_privado</th>\n",
       "      <th>renta_publico</th>\n",
       "      <th>renta_privado</th>\n",
       "      <th>otro_ingreso_publico</th>\n",
       "      <th>otro_ingreso_privado</th>\n",
       "    </tr>\n",
       "  </thead>\n",
       "  <tbody>\n",
       "    <tr>\n",
       "      <th>0</th>\n",
       "      <td>False</td>\n",
       "      <td>False</td>\n",
       "      <td>False</td>\n",
       "      <td>False</td>\n",
       "      <td>False</td>\n",
       "      <td>False</td>\n",
       "      <td>True</td>\n",
       "      <td>True</td>\n",
       "      <td>True</td>\n",
       "      <td>False</td>\n",
       "    </tr>\n",
       "    <tr>\n",
       "      <th>1</th>\n",
       "      <td>False</td>\n",
       "      <td>False</td>\n",
       "      <td>False</td>\n",
       "      <td>False</td>\n",
       "      <td>True</td>\n",
       "      <td>False</td>\n",
       "      <td>True</td>\n",
       "      <td>True</td>\n",
       "      <td>True</td>\n",
       "      <td>False</td>\n",
       "    </tr>\n",
       "    <tr>\n",
       "      <th>2</th>\n",
       "      <td>False</td>\n",
       "      <td>False</td>\n",
       "      <td>False</td>\n",
       "      <td>False</td>\n",
       "      <td>True</td>\n",
       "      <td>False</td>\n",
       "      <td>True</td>\n",
       "      <td>True</td>\n",
       "      <td>True</td>\n",
       "      <td>False</td>\n",
       "    </tr>\n",
       "    <tr>\n",
       "      <th>3</th>\n",
       "      <td>False</td>\n",
       "      <td>False</td>\n",
       "      <td>False</td>\n",
       "      <td>False</td>\n",
       "      <td>True</td>\n",
       "      <td>False</td>\n",
       "      <td>True</td>\n",
       "      <td>True</td>\n",
       "      <td>True</td>\n",
       "      <td>False</td>\n",
       "    </tr>\n",
       "    <tr>\n",
       "      <th>4</th>\n",
       "      <td>False</td>\n",
       "      <td>False</td>\n",
       "      <td>False</td>\n",
       "      <td>False</td>\n",
       "      <td>False</td>\n",
       "      <td>True</td>\n",
       "      <td>True</td>\n",
       "      <td>False</td>\n",
       "      <td>True</td>\n",
       "      <td>False</td>\n",
       "    </tr>\n",
       "  </tbody>\n",
       "</table>\n",
       "</div>"
      ],
      "text/plain": [
       "   nombre    dni  partido  total_ingreso  ingreso_publico  ingreso_privado  \\\n",
       "0   False  False    False          False            False            False   \n",
       "1   False  False    False          False             True            False   \n",
       "2   False  False    False          False             True            False   \n",
       "3   False  False    False          False             True            False   \n",
       "4   False  False    False          False            False             True   \n",
       "\n",
       "   renta_publico  renta_privado  otro_ingreso_publico  otro_ingreso_privado  \n",
       "0           True           True                  True                 False  \n",
       "1           True           True                  True                 False  \n",
       "2           True           True                  True                 False  \n",
       "3           True           True                  True                 False  \n",
       "4           True          False                  True                 False  "
      ]
     },
     "execution_count": 82,
     "metadata": {},
     "output_type": "execute_result"
    }
   ],
   "source": [
    "cong_m.isna().head(5)"
   ]
  },
  {
   "cell_type": "code",
   "execution_count": 83,
   "metadata": {},
   "outputs": [
    {
     "data": {
      "text/plain": [
       "nombre                     0\n",
       "dni                        0\n",
       "partido                    0\n",
       "total_ingreso            570\n",
       "ingreso_publico         2384\n",
       "ingreso_privado         2524\n",
       "renta_publico           2958\n",
       "renta_privado           2230\n",
       "otro_ingreso_publico    3221\n",
       "otro_ingreso_privado    2735\n",
       "dtype: int64"
      ]
     },
     "execution_count": 83,
     "metadata": {},
     "output_type": "execute_result"
    }
   ],
   "source": [
    "cong_m.isna().sum()"
   ]
  },
  {
   "cell_type": "code",
   "execution_count": 62,
   "metadata": {},
   "outputs": [
    {
     "data": {
      "text/plain": [
       "nombre                   0.00\n",
       "dni                      0.00\n",
       "partido                  0.00\n",
       "total_ingreso           17.19\n",
       "ingreso_publico         71.89\n",
       "ingreso_privado         76.12\n",
       "renta_publico           89.20\n",
       "renta_privado           67.25\n",
       "otro_ingreso_publico    97.14\n",
       "otro_ingreso_privado    82.48\n",
       "dtype: float64"
      ]
     },
     "execution_count": 62,
     "metadata": {},
     "output_type": "execute_result"
    }
   ],
   "source": [
    "cong_m.isna().mean().round(4)*100"
   ]
  },
  {
   "cell_type": "code",
   "execution_count": 78,
   "metadata": {},
   "outputs": [
    {
     "data": {
      "text/plain": [
       "(3316, 10)"
      ]
     },
     "execution_count": 78,
     "metadata": {},
     "output_type": "execute_result"
    }
   ],
   "source": [
    "## Aquí vemos cuales observaciones se eliminarían \n",
    "cong_m.dropna().shape"
   ]
  },
  {
   "cell_type": "code",
   "execution_count": 77,
   "metadata": {},
   "outputs": [
    {
     "data": {
      "text/plain": [
       "(3316, 10)"
      ]
     },
     "execution_count": 77,
     "metadata": {},
     "output_type": "execute_result"
    }
   ],
   "source": [
    "cong_m.dropna(subset=['ingreso_publico', 'ingreso_privado']).shape"
   ]
  },
  {
   "cell_type": "code",
   "execution_count": 86,
   "metadata": {},
   "outputs": [],
   "source": [
    "#cong_m.fillna('hola')"
   ]
  },
  {
   "cell_type": "code",
   "execution_count": 87,
   "metadata": {},
   "outputs": [],
   "source": [
    "dict_fill = {'total_ingreso': 0, 'ingreso_publico': 'hola'}\n",
    "#cong_m.fillna(dict_fill)"
   ]
  },
  {
   "cell_type": "code",
   "execution_count": 88,
   "metadata": {},
   "outputs": [
    {
     "data": {
      "text/plain": [
       "dni                     23921498.0\n",
       "total_ingreso              33000.0\n",
       "ingreso_publico            33385.5\n",
       "ingreso_privado            24000.0\n",
       "renta_publico              24000.0\n",
       "renta_privado              19000.0\n",
       "otro_ingreso_publico       28080.0\n",
       "otro_ingreso_privado       24000.0\n",
       "dtype: float64"
      ]
     },
     "execution_count": 88,
     "metadata": {},
     "output_type": "execute_result"
    }
   ],
   "source": [
    "med_fill = cong_m.median(numeric_only=True)\n",
    "med_fill"
   ]
  },
  {
   "cell_type": "code",
   "execution_count": 90,
   "metadata": {},
   "outputs": [
    {
     "data": {
      "text/html": [
       "<div>\n",
       "<style scoped>\n",
       "    .dataframe tbody tr th:only-of-type {\n",
       "        vertical-align: middle;\n",
       "    }\n",
       "\n",
       "    .dataframe tbody tr th {\n",
       "        vertical-align: top;\n",
       "    }\n",
       "\n",
       "    .dataframe thead th {\n",
       "        text-align: right;\n",
       "    }\n",
       "</style>\n",
       "<table border=\"1\" class=\"dataframe\">\n",
       "  <thead>\n",
       "    <tr style=\"text-align: right;\">\n",
       "      <th></th>\n",
       "      <th>nombre</th>\n",
       "      <th>dni</th>\n",
       "      <th>partido</th>\n",
       "      <th>total_ingreso</th>\n",
       "      <th>ingreso_publico</th>\n",
       "      <th>ingreso_privado</th>\n",
       "      <th>renta_publico</th>\n",
       "      <th>renta_privado</th>\n",
       "      <th>otro_ingreso_publico</th>\n",
       "      <th>otro_ingreso_privado</th>\n",
       "    </tr>\n",
       "  </thead>\n",
       "  <tbody>\n",
       "    <tr>\n",
       "      <th>0</th>\n",
       "      <td>SEMPERTEGUI ILATOMA GILBERTO</td>\n",
       "      <td>27428781.0</td>\n",
       "      <td>VICTORIA NACIONAL</td>\n",
       "      <td>57560800.0</td>\n",
       "      <td>2710800.0</td>\n",
       "      <td>14400000.0</td>\n",
       "      <td>NaN</td>\n",
       "      <td>NaN</td>\n",
       "      <td>NaN</td>\n",
       "      <td>40450000.0</td>\n",
       "    </tr>\n",
       "    <tr>\n",
       "      <th>1</th>\n",
       "      <td>LUNA GALVEZ JOSE LEON</td>\n",
       "      <td>7246887.0</td>\n",
       "      <td>PODEMOS PERU</td>\n",
       "      <td>12428083.0</td>\n",
       "      <td>NaN</td>\n",
       "      <td>1732402.0</td>\n",
       "      <td>NaN</td>\n",
       "      <td>NaN</td>\n",
       "      <td>NaN</td>\n",
       "      <td>10695681.0</td>\n",
       "    </tr>\n",
       "    <tr>\n",
       "      <th>2</th>\n",
       "      <td>KUOMAN SAAVEDRA DAVID</td>\n",
       "      <td>7818712.0</td>\n",
       "      <td>RENOVACION POPULAR</td>\n",
       "      <td>10998927.0</td>\n",
       "      <td>NaN</td>\n",
       "      <td>92096.0</td>\n",
       "      <td>NaN</td>\n",
       "      <td>NaN</td>\n",
       "      <td>NaN</td>\n",
       "      <td>10906831.0</td>\n",
       "    </tr>\n",
       "    <tr>\n",
       "      <th>3</th>\n",
       "      <td>ACUÑA PERALTA CESAR</td>\n",
       "      <td>17903382.0</td>\n",
       "      <td>ALIANZA PARA EL PROGRESO</td>\n",
       "      <td>9571448.0</td>\n",
       "      <td>NaN</td>\n",
       "      <td>3063448.0</td>\n",
       "      <td>NaN</td>\n",
       "      <td>NaN</td>\n",
       "      <td>NaN</td>\n",
       "      <td>6508000.0</td>\n",
       "    </tr>\n",
       "    <tr>\n",
       "      <th>4</th>\n",
       "      <td>OTIVO MANTURANO TITO ALBERTICO</td>\n",
       "      <td>19873483.0</td>\n",
       "      <td>RENACIMIENTO UNIDO NACIONAL</td>\n",
       "      <td>7740000.0</td>\n",
       "      <td>3060000.0</td>\n",
       "      <td>NaN</td>\n",
       "      <td>NaN</td>\n",
       "      <td>1800000.0</td>\n",
       "      <td>NaN</td>\n",
       "      <td>2880000.0</td>\n",
       "    </tr>\n",
       "    <tr>\n",
       "      <th>...</th>\n",
       "      <td>...</td>\n",
       "      <td>...</td>\n",
       "      <td>...</td>\n",
       "      <td>...</td>\n",
       "      <td>...</td>\n",
       "      <td>...</td>\n",
       "      <td>...</td>\n",
       "      <td>...</td>\n",
       "      <td>...</td>\n",
       "      <td>...</td>\n",
       "    </tr>\n",
       "    <tr>\n",
       "      <th>3311</th>\n",
       "      <td>GUTIERREZ RIVERA SUSANA CAROLINA</td>\n",
       "      <td>44720712.0</td>\n",
       "      <td>PODEMOS PERU</td>\n",
       "      <td>33000.0</td>\n",
       "      <td>NaN</td>\n",
       "      <td>NaN</td>\n",
       "      <td>NaN</td>\n",
       "      <td>NaN</td>\n",
       "      <td>NaN</td>\n",
       "      <td>NaN</td>\n",
       "    </tr>\n",
       "    <tr>\n",
       "      <th>3312</th>\n",
       "      <td>CISNEROS CALDERON ANIBAL HUGO</td>\n",
       "      <td>8505376.0</td>\n",
       "      <td>RENACIMIENTO UNIDO NACIONAL</td>\n",
       "      <td>33000.0</td>\n",
       "      <td>NaN</td>\n",
       "      <td>NaN</td>\n",
       "      <td>NaN</td>\n",
       "      <td>NaN</td>\n",
       "      <td>NaN</td>\n",
       "      <td>NaN</td>\n",
       "    </tr>\n",
       "    <tr>\n",
       "      <th>3313</th>\n",
       "      <td>GONZALES FLORES LIZBETH ROXANA</td>\n",
       "      <td>48855918.0</td>\n",
       "      <td>PODEMOS PERU</td>\n",
       "      <td>33000.0</td>\n",
       "      <td>NaN</td>\n",
       "      <td>NaN</td>\n",
       "      <td>NaN</td>\n",
       "      <td>NaN</td>\n",
       "      <td>NaN</td>\n",
       "      <td>NaN</td>\n",
       "    </tr>\n",
       "    <tr>\n",
       "      <th>3314</th>\n",
       "      <td>MELGAR GALVEZ FIORELA JUSETTE</td>\n",
       "      <td>70013249.0</td>\n",
       "      <td>PODEMOS PERU</td>\n",
       "      <td>33000.0</td>\n",
       "      <td>NaN</td>\n",
       "      <td>NaN</td>\n",
       "      <td>NaN</td>\n",
       "      <td>NaN</td>\n",
       "      <td>NaN</td>\n",
       "      <td>NaN</td>\n",
       "    </tr>\n",
       "    <tr>\n",
       "      <th>3315</th>\n",
       "      <td>HUARI AVILA ERICK DAVID</td>\n",
       "      <td>72765718.0</td>\n",
       "      <td>RENOVACION POPULAR</td>\n",
       "      <td>33000.0</td>\n",
       "      <td>NaN</td>\n",
       "      <td>NaN</td>\n",
       "      <td>NaN</td>\n",
       "      <td>NaN</td>\n",
       "      <td>NaN</td>\n",
       "      <td>NaN</td>\n",
       "    </tr>\n",
       "  </tbody>\n",
       "</table>\n",
       "<p>3316 rows × 10 columns</p>\n",
       "</div>"
      ],
      "text/plain": [
       "                                nombre         dni  \\\n",
       "0         SEMPERTEGUI ILATOMA GILBERTO  27428781.0   \n",
       "1                LUNA GALVEZ JOSE LEON   7246887.0   \n",
       "2                KUOMAN SAAVEDRA DAVID   7818712.0   \n",
       "3                  ACUÑA PERALTA CESAR  17903382.0   \n",
       "4       OTIVO MANTURANO TITO ALBERTICO  19873483.0   \n",
       "...                                ...         ...   \n",
       "3311  GUTIERREZ RIVERA SUSANA CAROLINA  44720712.0   \n",
       "3312     CISNEROS CALDERON ANIBAL HUGO   8505376.0   \n",
       "3313    GONZALES FLORES LIZBETH ROXANA  48855918.0   \n",
       "3314     MELGAR GALVEZ FIORELA JUSETTE  70013249.0   \n",
       "3315           HUARI AVILA ERICK DAVID  72765718.0   \n",
       "\n",
       "                          partido  total_ingreso  ingreso_publico  \\\n",
       "0               VICTORIA NACIONAL     57560800.0        2710800.0   \n",
       "1                    PODEMOS PERU     12428083.0              NaN   \n",
       "2              RENOVACION POPULAR     10998927.0              NaN   \n",
       "3        ALIANZA PARA EL PROGRESO      9571448.0              NaN   \n",
       "4     RENACIMIENTO UNIDO NACIONAL      7740000.0        3060000.0   \n",
       "...                           ...            ...              ...   \n",
       "3311                 PODEMOS PERU        33000.0              NaN   \n",
       "3312  RENACIMIENTO UNIDO NACIONAL        33000.0              NaN   \n",
       "3313                 PODEMOS PERU        33000.0              NaN   \n",
       "3314                 PODEMOS PERU        33000.0              NaN   \n",
       "3315           RENOVACION POPULAR        33000.0              NaN   \n",
       "\n",
       "      ingreso_privado  renta_publico  renta_privado  otro_ingreso_publico  \\\n",
       "0          14400000.0            NaN            NaN                   NaN   \n",
       "1           1732402.0            NaN            NaN                   NaN   \n",
       "2             92096.0            NaN            NaN                   NaN   \n",
       "3           3063448.0            NaN            NaN                   NaN   \n",
       "4                 NaN            NaN      1800000.0                   NaN   \n",
       "...               ...            ...            ...                   ...   \n",
       "3311              NaN            NaN            NaN                   NaN   \n",
       "3312              NaN            NaN            NaN                   NaN   \n",
       "3313              NaN            NaN            NaN                   NaN   \n",
       "3314              NaN            NaN            NaN                   NaN   \n",
       "3315              NaN            NaN            NaN                   NaN   \n",
       "\n",
       "      otro_ingreso_privado  \n",
       "0               40450000.0  \n",
       "1               10695681.0  \n",
       "2               10906831.0  \n",
       "3                6508000.0  \n",
       "4                2880000.0  \n",
       "...                    ...  \n",
       "3311                   NaN  \n",
       "3312                   NaN  \n",
       "3313                   NaN  \n",
       "3314                   NaN  \n",
       "3315                   NaN  \n",
       "\n",
       "[3316 rows x 10 columns]"
      ]
     },
     "execution_count": 90,
     "metadata": {},
     "output_type": "execute_result"
    }
   ],
   "source": [
    "med_fill = cong_m.median(numeric_only=True)\n",
    "\n",
    "cong_m.fillna(med_fill)"
   ]
  },
  {
   "cell_type": "markdown",
   "metadata": {},
   "source": [
    "### Haciendo un reshape de los datos (volver los datos de wide a long, y viceversa).\n",
    "\n"
   ]
  },
  {
   "cell_type": "code",
   "execution_count": 106,
   "metadata": {},
   "outputs": [],
   "source": [
    "categ_labels = ['cat_1', 'cat_2', 'cat_3', 'cat_4']\n",
    "categ_bins = [-1, 10000, 50000, 100000, 200000000]\n",
    "cong['cat_ingreso'] = pd.cut(cong['total_ingreso'],\n",
    "                              bins = categ_bins, labels = categ_labels)\n",
    "\n"
   ]
  },
  {
   "cell_type": "code",
   "execution_count": 111,
   "metadata": {},
   "outputs": [],
   "source": [
    "resumen = cong.pivot_table(index='partido', columns='cat_ingreso', values='total_ingreso', aggfunc='mean')"
   ]
  },
  {
   "cell_type": "code",
   "execution_count": 112,
   "metadata": {},
   "outputs": [],
   "source": [
    "resumen.columns = resumen.columns.astype(str) ### Tengo que convertir mis columnas, que eran \"Categorical indexes\" en strings (no siempre pasara esto, suele estar en string )\n",
    "#resumen['total'] =resumen.sum(axis=1)"
   ]
  },
  {
   "cell_type": "code",
   "execution_count": 114,
   "metadata": {},
   "outputs": [],
   "source": [
    "resumen = resumen.reset_index()"
   ]
  },
  {
   "cell_type": "code",
   "execution_count": 116,
   "metadata": {},
   "outputs": [
    {
     "data": {
      "text/html": [
       "<div>\n",
       "<style scoped>\n",
       "    .dataframe tbody tr th:only-of-type {\n",
       "        vertical-align: middle;\n",
       "    }\n",
       "\n",
       "    .dataframe tbody tr th {\n",
       "        vertical-align: top;\n",
       "    }\n",
       "\n",
       "    .dataframe thead th {\n",
       "        text-align: right;\n",
       "    }\n",
       "</style>\n",
       "<table border=\"1\" class=\"dataframe\">\n",
       "  <thead>\n",
       "    <tr style=\"text-align: right;\">\n",
       "      <th></th>\n",
       "      <th>partido</th>\n",
       "      <th>cat_ingreso</th>\n",
       "      <th>value</th>\n",
       "    </tr>\n",
       "  </thead>\n",
       "  <tbody>\n",
       "    <tr>\n",
       "      <th>0</th>\n",
       "      <td>ACCION POPULAR</td>\n",
       "      <td>cat_1</td>\n",
       "      <td>3.369192e+03</td>\n",
       "    </tr>\n",
       "    <tr>\n",
       "      <th>1</th>\n",
       "      <td>ALIANZA PARA EL PROGRESO</td>\n",
       "      <td>cat_1</td>\n",
       "      <td>1.041231e+03</td>\n",
       "    </tr>\n",
       "    <tr>\n",
       "      <th>2</th>\n",
       "      <td>AVANZA PAIS - PARTIDO DE INTEGRACION SOCIAL</td>\n",
       "      <td>cat_1</td>\n",
       "      <td>9.412973e+02</td>\n",
       "    </tr>\n",
       "    <tr>\n",
       "      <th>3</th>\n",
       "      <td>DEMOCRACIA DIRECTA</td>\n",
       "      <td>cat_1</td>\n",
       "      <td>1.020975e+03</td>\n",
       "    </tr>\n",
       "    <tr>\n",
       "      <th>4</th>\n",
       "      <td>EL FRENTE AMPLIO POR JUSTICIA, VIDA Y LIBERTAD</td>\n",
       "      <td>cat_1</td>\n",
       "      <td>2.844792e+03</td>\n",
       "    </tr>\n",
       "    <tr>\n",
       "      <th>...</th>\n",
       "      <td>...</td>\n",
       "      <td>...</td>\n",
       "      <td>...</td>\n",
       "    </tr>\n",
       "    <tr>\n",
       "      <th>83</th>\n",
       "      <td>PODEMOS PERU</td>\n",
       "      <td>cat_4</td>\n",
       "      <td>6.274179e+05</td>\n",
       "    </tr>\n",
       "    <tr>\n",
       "      <th>84</th>\n",
       "      <td>RENACIMIENTO UNIDO NACIONAL</td>\n",
       "      <td>cat_4</td>\n",
       "      <td>8.229403e+05</td>\n",
       "    </tr>\n",
       "    <tr>\n",
       "      <th>85</th>\n",
       "      <td>RENOVACION POPULAR</td>\n",
       "      <td>cat_4</td>\n",
       "      <td>1.068811e+06</td>\n",
       "    </tr>\n",
       "    <tr>\n",
       "      <th>86</th>\n",
       "      <td>UNION POR EL PERU</td>\n",
       "      <td>cat_4</td>\n",
       "      <td>1.767411e+05</td>\n",
       "    </tr>\n",
       "    <tr>\n",
       "      <th>87</th>\n",
       "      <td>VICTORIA NACIONAL</td>\n",
       "      <td>cat_4</td>\n",
       "      <td>1.586575e+06</td>\n",
       "    </tr>\n",
       "  </tbody>\n",
       "</table>\n",
       "<p>88 rows × 3 columns</p>\n",
       "</div>"
      ],
      "text/plain": [
       "                                           partido cat_ingreso         value\n",
       "0                                   ACCION POPULAR       cat_1  3.369192e+03\n",
       "1                         ALIANZA PARA EL PROGRESO       cat_1  1.041231e+03\n",
       "2      AVANZA PAIS - PARTIDO DE INTEGRACION SOCIAL       cat_1  9.412973e+02\n",
       "3                               DEMOCRACIA DIRECTA       cat_1  1.020975e+03\n",
       "4   EL FRENTE AMPLIO POR JUSTICIA, VIDA Y LIBERTAD       cat_1  2.844792e+03\n",
       "..                                             ...         ...           ...\n",
       "83                                    PODEMOS PERU       cat_4  6.274179e+05\n",
       "84                     RENACIMIENTO UNIDO NACIONAL       cat_4  8.229403e+05\n",
       "85                              RENOVACION POPULAR       cat_4  1.068811e+06\n",
       "86                               UNION POR EL PERU       cat_4  1.767411e+05\n",
       "87                               VICTORIA NACIONAL       cat_4  1.586575e+06\n",
       "\n",
       "[88 rows x 3 columns]"
      ]
     },
     "execution_count": 116,
     "metadata": {},
     "output_type": "execute_result"
    }
   ],
   "source": [
    "resumen_melted = resumen.melt(id_vars = 'partido', value_vars = ['cat_1', 'cat_2', 'cat_3', 'cat_4'])\n",
    "resumen_melted"
   ]
  },
  {
   "cell_type": "code",
   "execution_count": null,
   "metadata": {},
   "outputs": [],
   "source": []
  }
 ],
 "metadata": {
  "kernelspec": {
   "display_name": "Python 3",
   "language": "python",
   "name": "python3"
  },
  "language_info": {
   "codemirror_mode": {
    "name": "ipython",
    "version": 3
   },
   "file_extension": ".py",
   "mimetype": "text/x-python",
   "name": "python",
   "nbconvert_exporter": "python",
   "pygments_lexer": "ipython3",
   "version": "3.8.5"
  }
 },
 "nbformat": 4,
 "nbformat_minor": 4
}
