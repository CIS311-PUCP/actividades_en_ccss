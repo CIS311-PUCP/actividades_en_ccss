{
 "cells": [
  {
   "cell_type": "markdown",
   "metadata": {},
   "source": [
    "# Pandas (Parte 2)\n",
    "\n",
    "En la última sesión vimos una introducción a Pandas. \n",
    "Las cosas que aprendimos a hacer fueron:\n",
    "\n",
    "- Crear y leer una base de datos. \n",
    "- Realizar los primeros análisis descriptivos de una base de datos. \n",
    "- Seleccionar información (por columnas  y filas). \n",
    "- Tabular información \n",
    "- Filtrar información "
   ]
  },
  {
   "cell_type": "markdown",
   "metadata": {},
   "source": [
    "### Ordenando valores \n",
    "\n",
    "A veces queremos ordenar nuestro dataframe de acuerdo a criterios específicos"
   ]
  },
  {
   "cell_type": "code",
   "execution_count": 1,
   "metadata": {},
   "outputs": [],
   "source": [
    "import pandas as pd"
   ]
  },
  {
   "cell_type": "code",
   "execution_count": 2,
   "metadata": {},
   "outputs": [],
   "source": [
    "locacion_datos = \"https://otorongo.club/2021/json/ingresos/\"\n",
    "\n",
    "cong = pd.read_json(locacion_datos)"
   ]
  },
  {
   "cell_type": "code",
   "execution_count": 17,
   "metadata": {},
   "outputs": [],
   "source": [
    "\n",
    "## Ordenando de menor a mayor\n",
    "cong.sort_values(\"total_ingreso\", inplace = True)\n",
    "#cong.head(4)"
   ]
  },
  {
   "cell_type": "code",
   "execution_count": 16,
   "metadata": {},
   "outputs": [],
   "source": [
    "## Ordenando de mayor a menor\n",
    "cong.sort_values(\"total_ingreso\",ascending = False,  inplace = True)\n",
    "#cong.head(3)"
   ]
  },
  {
   "cell_type": "code",
   "execution_count": 15,
   "metadata": {},
   "outputs": [],
   "source": [
    "## Ordenando con más de un criterio. \n",
    "cong.sort_values(['partido', 'total_ingreso'],ascending = False,  inplace = True)\n",
    "#cong.head(10)"
   ]
  },
  {
   "cell_type": "markdown",
   "metadata": {},
   "source": [
    "## Limpieza de datos (parte 1)"
   ]
  },
  {
   "cell_type": "markdown",
   "metadata": {},
   "source": [
    "### Cambiando de nombre a nuestras columnas\n",
    "Muchas veces necesitamos cambiar de nombre a nuestras columnas. Podemos hacerlo directamente: "
   ]
  },
  {
   "cell_type": "code",
   "execution_count": 45,
   "metadata": {},
   "outputs": [],
   "source": [
    "cong2 = cong.copy(deep = True)"
   ]
  },
  {
   "cell_type": "code",
   "execution_count": 19,
   "metadata": {},
   "outputs": [
    {
     "data": {
      "text/plain": [
       "Index(['nombre', 'dni', 'partido', 'total_ingreso', 'ingreso_publico',\n",
       "       'ingreso_privado', 'renta_publico', 'renta_privado',\n",
       "       'otro_ingreso_publico', 'otro_ingreso_privado'],\n",
       "      dtype='object')"
      ]
     },
     "execution_count": 19,
     "metadata": {},
     "output_type": "execute_result"
    }
   ],
   "source": [
    "cong2.columns"
   ]
  },
  {
   "cell_type": "code",
   "execution_count": 25,
   "metadata": {},
   "outputs": [],
   "source": [
    "cong2.columns = ['nombre_congresista', \"dni_cong\"] + list(cong2.columns[2:]) ## Esta lista al final "
   ]
  },
  {
   "cell_type": "markdown",
   "metadata": {},
   "source": [
    "Otra forma de cambiar nombres es definir un diccionario donde se da el ```nombre_viejo: nombre_nuevo ```"
   ]
  },
  {
   "cell_type": "code",
   "execution_count": 29,
   "metadata": {},
   "outputs": [],
   "source": [
    "nuevos_nombres = {'nombre_congresista': 'nombre', 'dni_cong' : 'dni'}"
   ]
  },
  {
   "cell_type": "code",
   "execution_count": 32,
   "metadata": {},
   "outputs": [],
   "source": [
    "cong2.rename(columns = nuevos_nombres, inplace = True)"
   ]
  },
  {
   "cell_type": "markdown",
   "metadata": {},
   "source": [
    "### Cambiando el valor de las variables\n",
    "Una forma práctica de cambiar los valores de nuestras variables, es usar un diccionario: "
   ]
  },
  {
   "cell_type": "code",
   "execution_count": 38,
   "metadata": {},
   "outputs": [],
   "source": [
    "cong2['partido_nuevo'] = cong2['partido']\n",
    "\n",
    "cong2.replace({'partido_nuevo': {'ALIANZA PARA EL PROGRESO': 'FUERZA POPULAR',\n",
    "                                 'JUNTOS POR EL PERU': 'PARTIDO POLITICO NACIONAL PERU LIBRE'}}, inplace = True)"
   ]
  },
  {
   "cell_type": "markdown",
   "metadata": {},
   "source": [
    "También podemos usar .loc para reemplazar valores:"
   ]
  },
  {
   "cell_type": "code",
   "execution_count": 43,
   "metadata": {},
   "outputs": [],
   "source": [
    "cong2.loc[cong2['partido'] == 'ALIANZA PARA EL PROGRESO', 'partido'] = 'FUERZA POPULAR'"
   ]
  },
  {
   "cell_type": "markdown",
   "metadata": {},
   "source": [
    "Tambien podemos usar el comando ``` isin``` :"
   ]
  },
  {
   "cell_type": "code",
   "execution_count": 48,
   "metadata": {},
   "outputs": [],
   "source": [
    "cong2['nueva_coalicion'] = 0\n",
    "cong2.loc[cong2[\"partido\"].isin(['ALIANZA PARA EL PROGRESO',\n",
    "                                 'FUERZA POPULAR', 'VICTORIA NACIONAL' ]), \"nueva_coalicion\"] = 1"
   ]
  },
  {
   "cell_type": "markdown",
   "metadata": {},
   "source": [
    "### Cómo crear variables nuevas\n",
    "\n",
    "En este caso estoy utilizando indistintamente \"variable\" de \"columna\""
   ]
  },
  {
   "cell_type": "code",
   "execution_count": 63,
   "metadata": {},
   "outputs": [
    {
     "data": {
      "text/html": [
       "<div>\n",
       "<style scoped>\n",
       "    .dataframe tbody tr th:only-of-type {\n",
       "        vertical-align: middle;\n",
       "    }\n",
       "\n",
       "    .dataframe tbody tr th {\n",
       "        vertical-align: top;\n",
       "    }\n",
       "\n",
       "    .dataframe thead th {\n",
       "        text-align: right;\n",
       "    }\n",
       "</style>\n",
       "<table border=\"1\" class=\"dataframe\">\n",
       "  <thead>\n",
       "    <tr style=\"text-align: right;\">\n",
       "      <th></th>\n",
       "      <th>nombre</th>\n",
       "      <th>dni</th>\n",
       "      <th>partido</th>\n",
       "      <th>total_ingreso</th>\n",
       "      <th>ingreso_publico</th>\n",
       "      <th>ingreso_privado</th>\n",
       "      <th>renta_publico</th>\n",
       "      <th>renta_privado</th>\n",
       "      <th>otro_ingreso_publico</th>\n",
       "      <th>otro_ingreso_privado</th>\n",
       "      <th>new_ingreso_mp</th>\n",
       "      <th>new_ingreso_mensual</th>\n",
       "      <th>nueva columna</th>\n",
       "    </tr>\n",
       "  </thead>\n",
       "  <tbody>\n",
       "    <tr>\n",
       "      <th>3159</th>\n",
       "      <td>SALAS CUADROS JORGE AUGUSTO</td>\n",
       "      <td>239996</td>\n",
       "      <td>ACCION POPULAR</td>\n",
       "      <td>0</td>\n",
       "      <td>0</td>\n",
       "      <td>0</td>\n",
       "      <td>0</td>\n",
       "      <td>0</td>\n",
       "      <td>0</td>\n",
       "      <td>0</td>\n",
       "      <td>0.0</td>\n",
       "      <td>0.0</td>\n",
       "      <td>True</td>\n",
       "    </tr>\n",
       "    <tr>\n",
       "      <th>2892</th>\n",
       "      <td>GUEVARA VERGARA CLODOMIRO</td>\n",
       "      <td>41690329</td>\n",
       "      <td>RENACIMIENTO UNIDO NACIONAL</td>\n",
       "      <td>0</td>\n",
       "      <td>0</td>\n",
       "      <td>0</td>\n",
       "      <td>0</td>\n",
       "      <td>0</td>\n",
       "      <td>0</td>\n",
       "      <td>0</td>\n",
       "      <td>0.0</td>\n",
       "      <td>0.0</td>\n",
       "      <td>True</td>\n",
       "    </tr>\n",
       "    <tr>\n",
       "      <th>3161</th>\n",
       "      <td>HUACRE MEZA BRENDA JEANETTE</td>\n",
       "      <td>45074945</td>\n",
       "      <td>RENACIMIENTO UNIDO NACIONAL</td>\n",
       "      <td>0</td>\n",
       "      <td>0</td>\n",
       "      <td>0</td>\n",
       "      <td>0</td>\n",
       "      <td>0</td>\n",
       "      <td>0</td>\n",
       "      <td>0</td>\n",
       "      <td>0.0</td>\n",
       "      <td>0.0</td>\n",
       "      <td>True</td>\n",
       "    </tr>\n",
       "  </tbody>\n",
       "</table>\n",
       "</div>"
      ],
      "text/plain": [
       "                           nombre       dni                      partido  \\\n",
       "3159  SALAS CUADROS JORGE AUGUSTO    239996               ACCION POPULAR   \n",
       "2892    GUEVARA VERGARA CLODOMIRO  41690329  RENACIMIENTO UNIDO NACIONAL   \n",
       "3161  HUACRE MEZA BRENDA JEANETTE  45074945  RENACIMIENTO UNIDO NACIONAL   \n",
       "\n",
       "      total_ingreso  ingreso_publico  ingreso_privado  renta_publico  \\\n",
       "3159              0                0                0              0   \n",
       "2892              0                0                0              0   \n",
       "3161              0                0                0              0   \n",
       "\n",
       "      renta_privado  otro_ingreso_publico  otro_ingreso_privado  \\\n",
       "3159              0                     0                     0   \n",
       "2892              0                     0                     0   \n",
       "3161              0                     0                     0   \n",
       "\n",
       "      new_ingreso_mp  new_ingreso_mensual  nueva columna  \n",
       "3159             0.0                  0.0           True  \n",
       "2892             0.0                  0.0           True  \n",
       "3161             0.0                  0.0           True  "
      ]
     },
     "execution_count": 63,
     "metadata": {},
     "output_type": "execute_result"
    }
   ],
   "source": [
    "cong['nueva columna'] = True\n",
    "cong.head(3)"
   ]
  },
  {
   "cell_type": "code",
   "execution_count": null,
   "metadata": {},
   "outputs": [],
   "source": [
    "cong['ingreso mensual'] = cong['total_ingreso'] / 12\n",
    "cong['ingreso_menos_p'] = (cong['total_ingreso'] - cong['ingreso_publico'])/ 12"
   ]
  },
  {
   "cell_type": "markdown",
   "metadata": {},
   "source": [
    "Otra forma es utilizando el ```eval```: "
   ]
  },
  {
   "cell_type": "code",
   "execution_count": 61,
   "metadata": {},
   "outputs": [],
   "source": [
    "cong['new_ingreso_mp'] = cong.eval('(total_ingreso-ingreso_publico)/12')\n",
    "cong['new_ingreso_mensual'] = cong.eval('total_ingreso/12')\n"
   ]
  },
  {
   "cell_type": "markdown",
   "metadata": {},
   "source": [
    "Podemos crear variables categóricas en base a variables continuas con ```cut```: "
   ]
  },
  {
   "cell_type": "code",
   "execution_count": null,
   "metadata": {},
   "outputs": [],
   "source": [
    "categ_labels = ['cat_1', 'cat_2', 'cat_3', 'cat_4']\n",
    "categ_bins = [-1, 10000, 50000, 100000, 200000000]"
   ]
  },
  {
   "cell_type": "code",
   "execution_count": null,
   "metadata": {},
   "outputs": [],
   "source": [
    "cong2['cat_ingreso'] = pd.cut(cong2['total_ingreso'],\n",
    "                              bins = categ_bins, labels = categ_labels)"
   ]
  },
  {
   "cell_type": "markdown",
   "metadata": {},
   "source": [
    "Tarea: Crear cuantiles (qcut)"
   ]
  },
  {
   "cell_type": "markdown",
   "metadata": {},
   "source": [
    "### Agregar datos\n",
    "\n",
    "Muchas veces vamos a querer una agregación de los datos que nos resuma algunas de las variables en sus medidas de tendencia central, o las que nos interese. "
   ]
  },
  {
   "cell_type": "markdown",
   "metadata": {},
   "source": [
    "La forma más generalde agregar los datos es la siguiente: \n",
    "    "
   ]
  },
  {
   "cell_type": "code",
   "execution_count": 90,
   "metadata": {},
   "outputs": [
    {
     "data": {
      "text/plain": [
       "dni                     2.711041e+07\n",
       "total_ingreso           8.834971e+04\n",
       "ingreso_publico         1.637062e+04\n",
       "ingreso_privado         1.901372e+04\n",
       "renta_publico           3.630140e+03\n",
       "renta_privado           1.280850e+04\n",
       "otro_ingreso_publico    1.278966e+03\n",
       "otro_ingreso_privado    3.524777e+04\n",
       "new_ingreso_mp          5.998258e+03\n",
       "new_ingreso_mensual     7.362476e+03\n",
       "nueva columna           1.000000e+00\n",
       "dtype: float64"
      ]
     },
     "execution_count": 90,
     "metadata": {},
     "output_type": "execute_result"
    }
   ],
   "source": [
    "cong.mean()"
   ]
  },
  {
   "cell_type": "code",
   "execution_count": 92,
   "metadata": {},
   "outputs": [
    {
     "data": {
      "text/plain": [
       "88349.71441495778"
      ]
     },
     "execution_count": 92,
     "metadata": {},
     "output_type": "execute_result"
    }
   ],
   "source": [
    "\n",
    "cong['total_ingreso'].mean()"
   ]
  },
  {
   "cell_type": "code",
   "execution_count": 94,
   "metadata": {},
   "outputs": [
    {
     "data": {
      "text/plain": [
       "69270.45505617978"
      ]
     },
     "execution_count": 94,
     "metadata": {},
     "output_type": "execute_result"
    }
   ],
   "source": [
    "cong[cong['partido'] == \"PARTIDO MORADO\"]['total_ingreso'].mean()"
   ]
  },
  {
   "cell_type": "markdown",
   "metadata": {},
   "source": [
    "En general, podemos hacer todas estas agregaciones: \n",
    "\n",
    "* `mean` - promedio\n",
    "* `median` - mediana\n",
    "* `sum` - suma\n",
    "* `min` - mínimo\n",
    "* `max` - máximo\n",
    "* `quantile` - nos da el cuantil que le pedimos\n",
    "* `std` - desviación standar\n",
    "* `var` - varianza\n",
    "* `count` - produce el número de valores no missing\n",
    "* `describe` - nos da varias de las medidas de arriba\n"
   ]
  },
  {
   "cell_type": "markdown",
   "metadata": {},
   "source": [
    "### OJO: Podemos hacer agregaciones de ó columnas ó filas. \n",
    "\n",
    "Para hacer agregaciones por columnas: ```axis = 0``` ó ```axis = 'index' ```\n",
    "Para hacer agregaciones por filas: ```axis = 1``` ó ```axis = 'columns' ```"
   ]
  },
  {
   "cell_type": "code",
   "execution_count": 97,
   "metadata": {},
   "outputs": [],
   "source": [
    "## Sumando todos los ingresos por congresista\n",
    "cong['otro_total'] = cong[['ingreso_publico',\n",
    "       'ingreso_privado', 'renta_publico', 'renta_privado',\n",
    "       'otro_ingreso_publico', 'otro_ingreso_privado']].sum(axis = 1)"
   ]
  },
  {
   "cell_type": "code",
   "execution_count": 101,
   "metadata": {},
   "outputs": [
    {
     "data": {
      "text/plain": [
       "ingreso_publico          54284990\n",
       "ingreso_privado          63049488\n",
       "renta_publico            12037545\n",
       "renta_privado            42472988\n",
       "otro_ingreso_publico      4241050\n",
       "otro_ingreso_privado    116881592\n",
       "dtype: int64"
      ]
     },
     "execution_count": 101,
     "metadata": {},
     "output_type": "execute_result"
    }
   ],
   "source": [
    "cong[['ingreso_publico',\n",
    "       'ingreso_privado', 'renta_publico', 'renta_privado',\n",
    "       'otro_ingreso_publico', 'otro_ingreso_privado']].sum(axis = 0)"
   ]
  },
  {
   "cell_type": "code",
   "execution_count": 76,
   "metadata": {},
   "outputs": [
    {
     "data": {
      "text/html": [
       "<div>\n",
       "<style scoped>\n",
       "    .dataframe tbody tr th:only-of-type {\n",
       "        vertical-align: middle;\n",
       "    }\n",
       "\n",
       "    .dataframe tbody tr th {\n",
       "        vertical-align: top;\n",
       "    }\n",
       "\n",
       "    .dataframe thead th {\n",
       "        text-align: right;\n",
       "    }\n",
       "</style>\n",
       "<table border=\"1\" class=\"dataframe\">\n",
       "  <thead>\n",
       "    <tr style=\"text-align: right;\">\n",
       "      <th></th>\n",
       "      <th>total_ingreso</th>\n",
       "    </tr>\n",
       "    <tr>\n",
       "      <th>partido</th>\n",
       "      <th></th>\n",
       "    </tr>\n",
       "  </thead>\n",
       "  <tbody>\n",
       "    <tr>\n",
       "      <th>ACCION POPULAR</th>\n",
       "      <td>59437.463277</td>\n",
       "    </tr>\n",
       "    <tr>\n",
       "      <th>ALIANZA PARA EL PROGRESO</th>\n",
       "      <td>124155.849162</td>\n",
       "    </tr>\n",
       "    <tr>\n",
       "      <th>AVANZA PAIS - PARTIDO DE INTEGRACION SOCIAL</th>\n",
       "      <td>80444.471338</td>\n",
       "    </tr>\n",
       "    <tr>\n",
       "      <th>DEMOCRACIA DIRECTA</th>\n",
       "      <td>25121.864407</td>\n",
       "    </tr>\n",
       "    <tr>\n",
       "      <th>EL FRENTE AMPLIO POR JUSTICIA, VIDA Y LIBERTAD</th>\n",
       "      <td>28326.472393</td>\n",
       "    </tr>\n",
       "    <tr>\n",
       "      <th>FRENTE POPULAR AGRICOLA FIA DEL PERU - FREPAP</th>\n",
       "      <td>19786.235955</td>\n",
       "    </tr>\n",
       "    <tr>\n",
       "      <th>FUERZA POPULAR</th>\n",
       "      <td>94359.858757</td>\n",
       "    </tr>\n",
       "    <tr>\n",
       "      <th>JUNTOS POR EL PERU</th>\n",
       "      <td>48673.322034</td>\n",
       "    </tr>\n",
       "    <tr>\n",
       "      <th>PARTIDO APRISTA PERUANO</th>\n",
       "      <td>122434.052632</td>\n",
       "    </tr>\n",
       "    <tr>\n",
       "      <th>PARTIDO DEMOCRATICO SOMOS PERU</th>\n",
       "      <td>57238.775281</td>\n",
       "    </tr>\n",
       "    <tr>\n",
       "      <th>PARTIDO FRENTE DE LA ESPERANZA 2021</th>\n",
       "      <td>18141.125000</td>\n",
       "    </tr>\n",
       "    <tr>\n",
       "      <th>PARTIDO MORADO</th>\n",
       "      <td>69270.455056</td>\n",
       "    </tr>\n",
       "    <tr>\n",
       "      <th>PARTIDO NACIONALISTA PERUANO</th>\n",
       "      <td>42424.757062</td>\n",
       "    </tr>\n",
       "    <tr>\n",
       "      <th>PARTIDO POLITICO NACIONAL PERU LIBRE</th>\n",
       "      <td>43010.303371</td>\n",
       "    </tr>\n",
       "    <tr>\n",
       "      <th>PARTIDO POLÍTICO CONTIGO</th>\n",
       "      <td>64756.382353</td>\n",
       "    </tr>\n",
       "    <tr>\n",
       "      <th>PARTIDO POPULAR CRISTIANO - PPC</th>\n",
       "      <td>48740.570621</td>\n",
       "    </tr>\n",
       "    <tr>\n",
       "      <th>PERU PATRIA SEGURA</th>\n",
       "      <td>69610.990385</td>\n",
       "    </tr>\n",
       "    <tr>\n",
       "      <th>PODEMOS PERU</th>\n",
       "      <td>161985.821839</td>\n",
       "    </tr>\n",
       "    <tr>\n",
       "      <th>RENACIMIENTO UNIDO NACIONAL</th>\n",
       "      <td>86746.683616</td>\n",
       "    </tr>\n",
       "    <tr>\n",
       "      <th>RENOVACION POPULAR</th>\n",
       "      <td>156966.491525</td>\n",
       "    </tr>\n",
       "    <tr>\n",
       "      <th>UNION POR EL PERU</th>\n",
       "      <td>49173.114650</td>\n",
       "    </tr>\n",
       "    <tr>\n",
       "      <th>VICTORIA NACIONAL</th>\n",
       "      <td>446236.639752</td>\n",
       "    </tr>\n",
       "  </tbody>\n",
       "</table>\n",
       "</div>"
      ],
      "text/plain": [
       "                                                total_ingreso\n",
       "partido                                                      \n",
       "ACCION POPULAR                                   59437.463277\n",
       "ALIANZA PARA EL PROGRESO                        124155.849162\n",
       "AVANZA PAIS - PARTIDO DE INTEGRACION SOCIAL      80444.471338\n",
       "DEMOCRACIA DIRECTA                               25121.864407\n",
       "EL FRENTE AMPLIO POR JUSTICIA, VIDA Y LIBERTAD   28326.472393\n",
       "FRENTE POPULAR AGRICOLA FIA DEL PERU - FREPAP    19786.235955\n",
       "FUERZA POPULAR                                   94359.858757\n",
       "JUNTOS POR EL PERU                               48673.322034\n",
       "PARTIDO APRISTA PERUANO                         122434.052632\n",
       "PARTIDO DEMOCRATICO SOMOS PERU                   57238.775281\n",
       "PARTIDO FRENTE DE LA ESPERANZA 2021              18141.125000\n",
       "PARTIDO MORADO                                   69270.455056\n",
       "PARTIDO NACIONALISTA PERUANO                     42424.757062\n",
       "PARTIDO POLITICO NACIONAL PERU LIBRE             43010.303371\n",
       "PARTIDO POLÍTICO CONTIGO                         64756.382353\n",
       "PARTIDO POPULAR CRISTIANO - PPC                  48740.570621\n",
       "PERU PATRIA SEGURA                               69610.990385\n",
       "PODEMOS PERU                                    161985.821839\n",
       "RENACIMIENTO UNIDO NACIONAL                      86746.683616\n",
       "RENOVACION POPULAR                              156966.491525\n",
       "UNION POR EL PERU                                49173.114650\n",
       "VICTORIA NACIONAL                               446236.639752"
      ]
     },
     "execution_count": 76,
     "metadata": {},
     "output_type": "execute_result"
    }
   ],
   "source": [
    "cong[['total_ingreso', 'partido']].groupby('partido').mean()"
   ]
  },
  {
   "cell_type": "code",
   "execution_count": 83,
   "metadata": {},
   "outputs": [
    {
     "data": {
      "text/html": [
       "<div>\n",
       "<style scoped>\n",
       "    .dataframe tbody tr th:only-of-type {\n",
       "        vertical-align: middle;\n",
       "    }\n",
       "\n",
       "    .dataframe tbody tr th {\n",
       "        vertical-align: top;\n",
       "    }\n",
       "\n",
       "    .dataframe thead th {\n",
       "        text-align: right;\n",
       "    }\n",
       "</style>\n",
       "<table border=\"1\" class=\"dataframe\">\n",
       "  <thead>\n",
       "    <tr style=\"text-align: right;\">\n",
       "      <th></th>\n",
       "      <th>partido</th>\n",
       "      <th>total_ingreso</th>\n",
       "    </tr>\n",
       "  </thead>\n",
       "  <tbody>\n",
       "    <tr>\n",
       "      <th>0</th>\n",
       "      <td>ACCION POPULAR</td>\n",
       "      <td>605574</td>\n",
       "    </tr>\n",
       "    <tr>\n",
       "      <th>1</th>\n",
       "      <td>ALIANZA PARA EL PROGRESO</td>\n",
       "      <td>9571448</td>\n",
       "    </tr>\n",
       "    <tr>\n",
       "      <th>2</th>\n",
       "      <td>AVANZA PAIS - PARTIDO DE INTEGRACION SOCIAL</td>\n",
       "      <td>1592210</td>\n",
       "    </tr>\n",
       "    <tr>\n",
       "      <th>3</th>\n",
       "      <td>DEMOCRACIA DIRECTA</td>\n",
       "      <td>460922</td>\n",
       "    </tr>\n",
       "    <tr>\n",
       "      <th>4</th>\n",
       "      <td>EL FRENTE AMPLIO POR JUSTICIA, VIDA Y LIBERTAD</td>\n",
       "      <td>278606</td>\n",
       "    </tr>\n",
       "    <tr>\n",
       "      <th>5</th>\n",
       "      <td>FRENTE POPULAR AGRICOLA FIA DEL PERU - FREPAP</td>\n",
       "      <td>102000</td>\n",
       "    </tr>\n",
       "    <tr>\n",
       "      <th>6</th>\n",
       "      <td>FUERZA POPULAR</td>\n",
       "      <td>2750000</td>\n",
       "    </tr>\n",
       "    <tr>\n",
       "      <th>7</th>\n",
       "      <td>JUNTOS POR EL PERU</td>\n",
       "      <td>336393</td>\n",
       "    </tr>\n",
       "    <tr>\n",
       "      <th>8</th>\n",
       "      <td>PARTIDO APRISTA PERUANO</td>\n",
       "      <td>970021</td>\n",
       "    </tr>\n",
       "    <tr>\n",
       "      <th>9</th>\n",
       "      <td>PARTIDO DEMOCRATICO SOMOS PERU</td>\n",
       "      <td>567989</td>\n",
       "    </tr>\n",
       "    <tr>\n",
       "      <th>10</th>\n",
       "      <td>PARTIDO FRENTE DE LA ESPERANZA 2021</td>\n",
       "      <td>265901</td>\n",
       "    </tr>\n",
       "    <tr>\n",
       "      <th>11</th>\n",
       "      <td>PARTIDO MORADO</td>\n",
       "      <td>1246086</td>\n",
       "    </tr>\n",
       "    <tr>\n",
       "      <th>12</th>\n",
       "      <td>PARTIDO NACIONALISTA PERUANO</td>\n",
       "      <td>487064</td>\n",
       "    </tr>\n",
       "    <tr>\n",
       "      <th>13</th>\n",
       "      <td>PARTIDO POLITICO NACIONAL PERU LIBRE</td>\n",
       "      <td>852600</td>\n",
       "    </tr>\n",
       "    <tr>\n",
       "      <th>14</th>\n",
       "      <td>PARTIDO POLÍTICO CONTIGO</td>\n",
       "      <td>879394</td>\n",
       "    </tr>\n",
       "    <tr>\n",
       "      <th>15</th>\n",
       "      <td>PARTIDO POPULAR CRISTIANO - PPC</td>\n",
       "      <td>1798250</td>\n",
       "    </tr>\n",
       "    <tr>\n",
       "      <th>16</th>\n",
       "      <td>PERU PATRIA SEGURA</td>\n",
       "      <td>2241500</td>\n",
       "    </tr>\n",
       "    <tr>\n",
       "      <th>17</th>\n",
       "      <td>PODEMOS PERU</td>\n",
       "      <td>12428083</td>\n",
       "    </tr>\n",
       "    <tr>\n",
       "      <th>18</th>\n",
       "      <td>RENACIMIENTO UNIDO NACIONAL</td>\n",
       "      <td>7740000</td>\n",
       "    </tr>\n",
       "    <tr>\n",
       "      <th>19</th>\n",
       "      <td>RENOVACION POPULAR</td>\n",
       "      <td>10998927</td>\n",
       "    </tr>\n",
       "    <tr>\n",
       "      <th>20</th>\n",
       "      <td>UNION POR EL PERU</td>\n",
       "      <td>542671</td>\n",
       "    </tr>\n",
       "    <tr>\n",
       "      <th>21</th>\n",
       "      <td>VICTORIA NACIONAL</td>\n",
       "      <td>57560800</td>\n",
       "    </tr>\n",
       "  </tbody>\n",
       "</table>\n",
       "</div>"
      ],
      "text/plain": [
       "                                           partido  total_ingreso\n",
       "0                                   ACCION POPULAR         605574\n",
       "1                         ALIANZA PARA EL PROGRESO        9571448\n",
       "2      AVANZA PAIS - PARTIDO DE INTEGRACION SOCIAL        1592210\n",
       "3                               DEMOCRACIA DIRECTA         460922\n",
       "4   EL FRENTE AMPLIO POR JUSTICIA, VIDA Y LIBERTAD         278606\n",
       "5    FRENTE POPULAR AGRICOLA FIA DEL PERU - FREPAP         102000\n",
       "6                                   FUERZA POPULAR        2750000\n",
       "7                               JUNTOS POR EL PERU         336393\n",
       "8                          PARTIDO APRISTA PERUANO         970021\n",
       "9                   PARTIDO DEMOCRATICO SOMOS PERU         567989\n",
       "10             PARTIDO FRENTE DE LA ESPERANZA 2021         265901\n",
       "11                                  PARTIDO MORADO        1246086\n",
       "12                    PARTIDO NACIONALISTA PERUANO         487064\n",
       "13            PARTIDO POLITICO NACIONAL PERU LIBRE         852600\n",
       "14                        PARTIDO POLÍTICO CONTIGO         879394\n",
       "15                 PARTIDO POPULAR CRISTIANO - PPC        1798250\n",
       "16                              PERU PATRIA SEGURA        2241500\n",
       "17                                    PODEMOS PERU       12428083\n",
       "18                     RENACIMIENTO UNIDO NACIONAL        7740000\n",
       "19                              RENOVACION POPULAR       10998927\n",
       "20                               UNION POR EL PERU         542671\n",
       "21                               VICTORIA NACIONAL       57560800"
      ]
     },
     "execution_count": 83,
     "metadata": {},
     "output_type": "execute_result"
    }
   ],
   "source": [
    "(cong[['total_ingreso', 'partido']].groupby('partido').max().reset_index())\n",
    "\n",
    "#.sort_values('total_ingreso')"
   ]
  },
  {
   "cell_type": "code",
   "execution_count": null,
   "metadata": {},
   "outputs": [],
   "source": [
    "Si bien hay varias formas, la más general es la siguiente:"
   ]
  },
  {
   "cell_type": "code",
   "execution_count": 64,
   "metadata": {},
   "outputs": [],
   "source": [
    "nueva_agregacion = cong.groupby(['partido']).agg(\n",
    "{'total_ingreso': ['mean', 'max'], \n",
    " 'ingreso_privado': ['mean', 'median']}\n",
    ")"
   ]
  },
  {
   "cell_type": "code",
   "execution_count": 65,
   "metadata": {},
   "outputs": [
    {
     "data": {
      "text/html": [
       "<div>\n",
       "<style scoped>\n",
       "    .dataframe tbody tr th:only-of-type {\n",
       "        vertical-align: middle;\n",
       "    }\n",
       "\n",
       "    .dataframe tbody tr th {\n",
       "        vertical-align: top;\n",
       "    }\n",
       "\n",
       "    .dataframe thead tr th {\n",
       "        text-align: left;\n",
       "    }\n",
       "\n",
       "    .dataframe thead tr:last-of-type th {\n",
       "        text-align: right;\n",
       "    }\n",
       "</style>\n",
       "<table border=\"1\" class=\"dataframe\">\n",
       "  <thead>\n",
       "    <tr>\n",
       "      <th></th>\n",
       "      <th colspan=\"2\" halign=\"left\">total_ingreso</th>\n",
       "      <th colspan=\"2\" halign=\"left\">ingreso_privado</th>\n",
       "    </tr>\n",
       "    <tr>\n",
       "      <th></th>\n",
       "      <th>mean</th>\n",
       "      <th>max</th>\n",
       "      <th>mean</th>\n",
       "      <th>median</th>\n",
       "    </tr>\n",
       "    <tr>\n",
       "      <th>partido</th>\n",
       "      <th></th>\n",
       "      <th></th>\n",
       "      <th></th>\n",
       "      <th></th>\n",
       "    </tr>\n",
       "  </thead>\n",
       "  <tbody>\n",
       "    <tr>\n",
       "      <th>ACCION POPULAR</th>\n",
       "      <td>59437.463277</td>\n",
       "      <td>605574</td>\n",
       "      <td>12390.203390</td>\n",
       "      <td>0</td>\n",
       "    </tr>\n",
       "    <tr>\n",
       "      <th>ALIANZA PARA EL PROGRESO</th>\n",
       "      <td>124155.849162</td>\n",
       "      <td>9571448</td>\n",
       "      <td>32321.284916</td>\n",
       "      <td>0</td>\n",
       "    </tr>\n",
       "    <tr>\n",
       "      <th>AVANZA PAIS - PARTIDO DE INTEGRACION SOCIAL</th>\n",
       "      <td>80444.471338</td>\n",
       "      <td>1592210</td>\n",
       "      <td>15340.000000</td>\n",
       "      <td>0</td>\n",
       "    </tr>\n",
       "    <tr>\n",
       "      <th>DEMOCRACIA DIRECTA</th>\n",
       "      <td>25121.864407</td>\n",
       "      <td>460922</td>\n",
       "      <td>7925.909605</td>\n",
       "      <td>0</td>\n",
       "    </tr>\n",
       "    <tr>\n",
       "      <th>EL FRENTE AMPLIO POR JUSTICIA, VIDA Y LIBERTAD</th>\n",
       "      <td>28326.472393</td>\n",
       "      <td>278606</td>\n",
       "      <td>4514.509202</td>\n",
       "      <td>0</td>\n",
       "    </tr>\n",
       "    <tr>\n",
       "      <th>FRENTE POPULAR AGRICOLA FIA DEL PERU - FREPAP</th>\n",
       "      <td>19786.235955</td>\n",
       "      <td>102000</td>\n",
       "      <td>1044.376404</td>\n",
       "      <td>0</td>\n",
       "    </tr>\n",
       "    <tr>\n",
       "      <th>FUERZA POPULAR</th>\n",
       "      <td>94359.858757</td>\n",
       "      <td>2750000</td>\n",
       "      <td>16421.644068</td>\n",
       "      <td>0</td>\n",
       "    </tr>\n",
       "    <tr>\n",
       "      <th>JUNTOS POR EL PERU</th>\n",
       "      <td>48673.322034</td>\n",
       "      <td>336393</td>\n",
       "      <td>9023.209040</td>\n",
       "      <td>0</td>\n",
       "    </tr>\n",
       "    <tr>\n",
       "      <th>PARTIDO APRISTA PERUANO</th>\n",
       "      <td>122434.052632</td>\n",
       "      <td>970021</td>\n",
       "      <td>93405.052632</td>\n",
       "      <td>17638</td>\n",
       "    </tr>\n",
       "    <tr>\n",
       "      <th>PARTIDO DEMOCRATICO SOMOS PERU</th>\n",
       "      <td>57238.775281</td>\n",
       "      <td>567989</td>\n",
       "      <td>7097.713483</td>\n",
       "      <td>0</td>\n",
       "    </tr>\n",
       "    <tr>\n",
       "      <th>PARTIDO FRENTE DE LA ESPERANZA 2021</th>\n",
       "      <td>18141.125000</td>\n",
       "      <td>265901</td>\n",
       "      <td>2340.500000</td>\n",
       "      <td>0</td>\n",
       "    </tr>\n",
       "    <tr>\n",
       "      <th>PARTIDO MORADO</th>\n",
       "      <td>69270.455056</td>\n",
       "      <td>1246086</td>\n",
       "      <td>17235.814607</td>\n",
       "      <td>0</td>\n",
       "    </tr>\n",
       "    <tr>\n",
       "      <th>PARTIDO NACIONALISTA PERUANO</th>\n",
       "      <td>42424.757062</td>\n",
       "      <td>487064</td>\n",
       "      <td>4284.118644</td>\n",
       "      <td>0</td>\n",
       "    </tr>\n",
       "    <tr>\n",
       "      <th>PARTIDO POLITICO NACIONAL PERU LIBRE</th>\n",
       "      <td>43010.303371</td>\n",
       "      <td>852600</td>\n",
       "      <td>8802.792135</td>\n",
       "      <td>0</td>\n",
       "    </tr>\n",
       "    <tr>\n",
       "      <th>PARTIDO POLÍTICO CONTIGO</th>\n",
       "      <td>64756.382353</td>\n",
       "      <td>879394</td>\n",
       "      <td>15342.764706</td>\n",
       "      <td>0</td>\n",
       "    </tr>\n",
       "    <tr>\n",
       "      <th>PARTIDO POPULAR CRISTIANO - PPC</th>\n",
       "      <td>48740.570621</td>\n",
       "      <td>1798250</td>\n",
       "      <td>20581.135593</td>\n",
       "      <td>0</td>\n",
       "    </tr>\n",
       "    <tr>\n",
       "      <th>PERU PATRIA SEGURA</th>\n",
       "      <td>69610.990385</td>\n",
       "      <td>2241500</td>\n",
       "      <td>15355.000000</td>\n",
       "      <td>0</td>\n",
       "    </tr>\n",
       "    <tr>\n",
       "      <th>PODEMOS PERU</th>\n",
       "      <td>161985.821839</td>\n",
       "      <td>12428083</td>\n",
       "      <td>46638.022989</td>\n",
       "      <td>0</td>\n",
       "    </tr>\n",
       "    <tr>\n",
       "      <th>RENACIMIENTO UNIDO NACIONAL</th>\n",
       "      <td>86746.683616</td>\n",
       "      <td>7740000</td>\n",
       "      <td>11201.305085</td>\n",
       "      <td>0</td>\n",
       "    </tr>\n",
       "    <tr>\n",
       "      <th>RENOVACION POPULAR</th>\n",
       "      <td>156966.491525</td>\n",
       "      <td>10998927</td>\n",
       "      <td>17748.508475</td>\n",
       "      <td>0</td>\n",
       "    </tr>\n",
       "    <tr>\n",
       "      <th>UNION POR EL PERU</th>\n",
       "      <td>49173.114650</td>\n",
       "      <td>542671</td>\n",
       "      <td>7968.165605</td>\n",
       "      <td>0</td>\n",
       "    </tr>\n",
       "    <tr>\n",
       "      <th>VICTORIA NACIONAL</th>\n",
       "      <td>446236.639752</td>\n",
       "      <td>57560800</td>\n",
       "      <td>105948.465839</td>\n",
       "      <td>0</td>\n",
       "    </tr>\n",
       "  </tbody>\n",
       "</table>\n",
       "</div>"
      ],
      "text/plain": [
       "                                                total_ingreso            \\\n",
       "                                                         mean       max   \n",
       "partido                                                                   \n",
       "ACCION POPULAR                                   59437.463277    605574   \n",
       "ALIANZA PARA EL PROGRESO                        124155.849162   9571448   \n",
       "AVANZA PAIS - PARTIDO DE INTEGRACION SOCIAL      80444.471338   1592210   \n",
       "DEMOCRACIA DIRECTA                               25121.864407    460922   \n",
       "EL FRENTE AMPLIO POR JUSTICIA, VIDA Y LIBERTAD   28326.472393    278606   \n",
       "FRENTE POPULAR AGRICOLA FIA DEL PERU - FREPAP    19786.235955    102000   \n",
       "FUERZA POPULAR                                   94359.858757   2750000   \n",
       "JUNTOS POR EL PERU                               48673.322034    336393   \n",
       "PARTIDO APRISTA PERUANO                         122434.052632    970021   \n",
       "PARTIDO DEMOCRATICO SOMOS PERU                   57238.775281    567989   \n",
       "PARTIDO FRENTE DE LA ESPERANZA 2021              18141.125000    265901   \n",
       "PARTIDO MORADO                                   69270.455056   1246086   \n",
       "PARTIDO NACIONALISTA PERUANO                     42424.757062    487064   \n",
       "PARTIDO POLITICO NACIONAL PERU LIBRE             43010.303371    852600   \n",
       "PARTIDO POLÍTICO CONTIGO                         64756.382353    879394   \n",
       "PARTIDO POPULAR CRISTIANO - PPC                  48740.570621   1798250   \n",
       "PERU PATRIA SEGURA                               69610.990385   2241500   \n",
       "PODEMOS PERU                                    161985.821839  12428083   \n",
       "RENACIMIENTO UNIDO NACIONAL                      86746.683616   7740000   \n",
       "RENOVACION POPULAR                              156966.491525  10998927   \n",
       "UNION POR EL PERU                                49173.114650    542671   \n",
       "VICTORIA NACIONAL                               446236.639752  57560800   \n",
       "\n",
       "                                               ingreso_privado         \n",
       "                                                          mean median  \n",
       "partido                                                                \n",
       "ACCION POPULAR                                    12390.203390      0  \n",
       "ALIANZA PARA EL PROGRESO                          32321.284916      0  \n",
       "AVANZA PAIS - PARTIDO DE INTEGRACION SOCIAL       15340.000000      0  \n",
       "DEMOCRACIA DIRECTA                                 7925.909605      0  \n",
       "EL FRENTE AMPLIO POR JUSTICIA, VIDA Y LIBERTAD     4514.509202      0  \n",
       "FRENTE POPULAR AGRICOLA FIA DEL PERU - FREPAP      1044.376404      0  \n",
       "FUERZA POPULAR                                    16421.644068      0  \n",
       "JUNTOS POR EL PERU                                 9023.209040      0  \n",
       "PARTIDO APRISTA PERUANO                           93405.052632  17638  \n",
       "PARTIDO DEMOCRATICO SOMOS PERU                     7097.713483      0  \n",
       "PARTIDO FRENTE DE LA ESPERANZA 2021                2340.500000      0  \n",
       "PARTIDO MORADO                                    17235.814607      0  \n",
       "PARTIDO NACIONALISTA PERUANO                       4284.118644      0  \n",
       "PARTIDO POLITICO NACIONAL PERU LIBRE               8802.792135      0  \n",
       "PARTIDO POLÍTICO CONTIGO                          15342.764706      0  \n",
       "PARTIDO POPULAR CRISTIANO - PPC                   20581.135593      0  \n",
       "PERU PATRIA SEGURA                                15355.000000      0  \n",
       "PODEMOS PERU                                      46638.022989      0  \n",
       "RENACIMIENTO UNIDO NACIONAL                       11201.305085      0  \n",
       "RENOVACION POPULAR                                17748.508475      0  \n",
       "UNION POR EL PERU                                  7968.165605      0  \n",
       "VICTORIA NACIONAL                                105948.465839      0  "
      ]
     },
     "execution_count": 65,
     "metadata": {},
     "output_type": "execute_result"
    }
   ],
   "source": [
    "nueva_agregacion"
   ]
  },
  {
   "cell_type": "code",
   "execution_count": 66,
   "metadata": {},
   "outputs": [],
   "source": [
    "## El reset index es importante!\n",
    "nueva_agregacion = cong.groupby(['partido']).agg(\n",
    "{'total_ingreso': ['mean', 'max'], \n",
    " 'ingreso_privado': ['mean', 'median']}\n",
    ").reset_index()\n",
    "\n"
   ]
  },
  {
   "cell_type": "code",
   "execution_count": 69,
   "metadata": {},
   "outputs": [
    {
     "data": {
      "text/plain": [
       "MultiIndex([(        'partido',       ''),\n",
       "            (  'total_ingreso',   'mean'),\n",
       "            (  'total_ingreso',    'max'),\n",
       "            ('ingreso_privado',   'mean'),\n",
       "            ('ingreso_privado', 'median')],\n",
       "           )"
      ]
     },
     "execution_count": 69,
     "metadata": {},
     "output_type": "execute_result"
    }
   ],
   "source": [
    "nueva_agregacion.columns"
   ]
  },
  {
   "cell_type": "code",
   "execution_count": null,
   "metadata": {},
   "outputs": [],
   "source": [
    "nueva_agregacion.columns = [''.join(col).strip() for col in nueva_agregacion.columns.values]"
   ]
  },
  {
   "cell_type": "markdown",
   "metadata": {},
   "source": [
    "Una nueva forma de ordenar nuestro código es ponerlo entre paréntesis y separarlo por \"puntitos\""
   ]
  },
  {
   "cell_type": "code",
   "execution_count": 84,
   "metadata": {},
   "outputs": [],
   "source": [
    "nueva_agregacion = (cong\n",
    "                    .groupby(['partido'])\n",
    "                    .agg(\n",
    "                    {'total_ingreso': ['mean', 'max'], \n",
    "                     'ingreso_privado': ['mean', 'median']}\n",
    "                   ).reset_index())"
   ]
  },
  {
   "cell_type": "markdown",
   "metadata": {},
   "source": []
  },
  {
   "cell_type": "code",
   "execution_count": null,
   "metadata": {},
   "outputs": [],
   "source": []
  },
  {
   "cell_type": "code",
   "execution_count": null,
   "metadata": {},
   "outputs": [],
   "source": []
  },
  {
   "cell_type": "code",
   "execution_count": null,
   "metadata": {},
   "outputs": [],
   "source": []
  },
  {
   "cell_type": "code",
   "execution_count": null,
   "metadata": {},
   "outputs": [],
   "source": []
  },
  {
   "cell_type": "markdown",
   "metadata": {},
   "source": []
  },
  {
   "cell_type": "markdown",
   "metadata": {},
   "source": [
    "### Juntar datos (merge)\n",
    "\n",
    "A veces tenemos los datos que nos interesan, esparcidos en diferentes dataframes.   \n",
    "1er paso para hacer la unión de datos: Identificar el identificador único!\n",
    "\n"
   ]
  },
  {
   "cell_type": "code",
   "execution_count": 75,
   "metadata": {},
   "outputs": [],
   "source": [
    "cong_1 = cong[['dni', 'total_ingreso']]\n",
    "\n",
    "cong_2 = cong[['dni', 'partido']]"
   ]
  },
  {
   "cell_type": "markdown",
   "metadata": {},
   "source": [
    "\n",
    "La sintaxis más general de un merge es la siguiente: \n",
    "\n",
    "``` python\n",
    "pd.merge(left = left_df,\n",
    "         right=right_df,\n",
    "         left_on=colname,\n",
    "         right_on=colname,\n",
    "         how=mergetype)\n",
    "\n",
    "```\n",
    "\n",
    "El merge_type (o tipo de merge puede ser):\n",
    "\n",
    "- left: quedan todas las observaciones (por keys) de las mano izquierda\n",
    "- right: quedan todas las observaciones (por keys) de la mano derecha\n",
    "- outer: es la unión de los keys de ambas bases\n",
    "- inner: es la intersección de los keys de ambas bases. \n"
   ]
  },
  {
   "cell_type": "code",
   "execution_count": 85,
   "metadata": {},
   "outputs": [
    {
     "data": {
      "text/html": [
       "<div>\n",
       "<style scoped>\n",
       "    .dataframe tbody tr th:only-of-type {\n",
       "        vertical-align: middle;\n",
       "    }\n",
       "\n",
       "    .dataframe tbody tr th {\n",
       "        vertical-align: top;\n",
       "    }\n",
       "\n",
       "    .dataframe thead th {\n",
       "        text-align: right;\n",
       "    }\n",
       "</style>\n",
       "<table border=\"1\" class=\"dataframe\">\n",
       "  <thead>\n",
       "    <tr style=\"text-align: right;\">\n",
       "      <th></th>\n",
       "      <th>dni</th>\n",
       "      <th>total_ingreso</th>\n",
       "      <th>partido</th>\n",
       "    </tr>\n",
       "  </thead>\n",
       "  <tbody>\n",
       "    <tr>\n",
       "      <th>0</th>\n",
       "      <td>239996</td>\n",
       "      <td>0</td>\n",
       "      <td>ACCION POPULAR</td>\n",
       "    </tr>\n",
       "    <tr>\n",
       "      <th>1</th>\n",
       "      <td>41690329</td>\n",
       "      <td>0</td>\n",
       "      <td>RENACIMIENTO UNIDO NACIONAL</td>\n",
       "    </tr>\n",
       "    <tr>\n",
       "      <th>2</th>\n",
       "      <td>45074945</td>\n",
       "      <td>0</td>\n",
       "      <td>RENACIMIENTO UNIDO NACIONAL</td>\n",
       "    </tr>\n",
       "    <tr>\n",
       "      <th>3</th>\n",
       "      <td>41738609</td>\n",
       "      <td>0</td>\n",
       "      <td>RENACIMIENTO UNIDO NACIONAL</td>\n",
       "    </tr>\n",
       "    <tr>\n",
       "      <th>4</th>\n",
       "      <td>42818690</td>\n",
       "      <td>0</td>\n",
       "      <td>RENACIMIENTO UNIDO NACIONAL</td>\n",
       "    </tr>\n",
       "    <tr>\n",
       "      <th>...</th>\n",
       "      <td>...</td>\n",
       "      <td>...</td>\n",
       "      <td>...</td>\n",
       "    </tr>\n",
       "    <tr>\n",
       "      <th>3311</th>\n",
       "      <td>19873483</td>\n",
       "      <td>7740000</td>\n",
       "      <td>RENACIMIENTO UNIDO NACIONAL</td>\n",
       "    </tr>\n",
       "    <tr>\n",
       "      <th>3312</th>\n",
       "      <td>17903382</td>\n",
       "      <td>9571448</td>\n",
       "      <td>ALIANZA PARA EL PROGRESO</td>\n",
       "    </tr>\n",
       "    <tr>\n",
       "      <th>3313</th>\n",
       "      <td>7818712</td>\n",
       "      <td>10998927</td>\n",
       "      <td>RENOVACION POPULAR</td>\n",
       "    </tr>\n",
       "    <tr>\n",
       "      <th>3314</th>\n",
       "      <td>7246887</td>\n",
       "      <td>12428083</td>\n",
       "      <td>PODEMOS PERU</td>\n",
       "    </tr>\n",
       "    <tr>\n",
       "      <th>3315</th>\n",
       "      <td>27428781</td>\n",
       "      <td>57560800</td>\n",
       "      <td>VICTORIA NACIONAL</td>\n",
       "    </tr>\n",
       "  </tbody>\n",
       "</table>\n",
       "<p>3316 rows × 3 columns</p>\n",
       "</div>"
      ],
      "text/plain": [
       "           dni  total_ingreso                      partido\n",
       "0       239996              0               ACCION POPULAR\n",
       "1     41690329              0  RENACIMIENTO UNIDO NACIONAL\n",
       "2     45074945              0  RENACIMIENTO UNIDO NACIONAL\n",
       "3     41738609              0  RENACIMIENTO UNIDO NACIONAL\n",
       "4     42818690              0  RENACIMIENTO UNIDO NACIONAL\n",
       "...        ...            ...                          ...\n",
       "3311  19873483        7740000  RENACIMIENTO UNIDO NACIONAL\n",
       "3312  17903382        9571448     ALIANZA PARA EL PROGRESO\n",
       "3313   7818712       10998927           RENOVACION POPULAR\n",
       "3314   7246887       12428083                 PODEMOS PERU\n",
       "3315  27428781       57560800            VICTORIA NACIONAL\n",
       "\n",
       "[3316 rows x 3 columns]"
      ]
     },
     "execution_count": 85,
     "metadata": {},
     "output_type": "execute_result"
    }
   ],
   "source": [
    "resultado_merge = pd.merge(cong_1,\n",
    "                     cong_2,\n",
    "                    left_on = 'dni',\n",
    "                    right_on = 'dni',\n",
    "                    how = 'inner')\n",
    "resultado_merge"
   ]
  },
  {
   "cell_type": "code",
   "execution_count": 86,
   "metadata": {},
   "outputs": [],
   "source": [
    "solo_fp = cong_2.loc[cong2['partido'] == 'FUERZA POPULAR', :]"
   ]
  },
  {
   "cell_type": "code",
   "execution_count": 88,
   "metadata": {},
   "outputs": [
    {
     "data": {
      "text/html": [
       "<div>\n",
       "<style scoped>\n",
       "    .dataframe tbody tr th:only-of-type {\n",
       "        vertical-align: middle;\n",
       "    }\n",
       "\n",
       "    .dataframe tbody tr th {\n",
       "        vertical-align: top;\n",
       "    }\n",
       "\n",
       "    .dataframe thead th {\n",
       "        text-align: right;\n",
       "    }\n",
       "</style>\n",
       "<table border=\"1\" class=\"dataframe\">\n",
       "  <thead>\n",
       "    <tr style=\"text-align: right;\">\n",
       "      <th></th>\n",
       "      <th>dni</th>\n",
       "      <th>total_ingreso</th>\n",
       "      <th>partido</th>\n",
       "    </tr>\n",
       "  </thead>\n",
       "  <tbody>\n",
       "    <tr>\n",
       "      <th>0</th>\n",
       "      <td>508595</td>\n",
       "      <td>0</td>\n",
       "      <td>FUERZA POPULAR</td>\n",
       "    </tr>\n",
       "    <tr>\n",
       "      <th>1</th>\n",
       "      <td>41221397</td>\n",
       "      <td>0</td>\n",
       "      <td>FUERZA POPULAR</td>\n",
       "    </tr>\n",
       "    <tr>\n",
       "      <th>2</th>\n",
       "      <td>46994878</td>\n",
       "      <td>0</td>\n",
       "      <td>FUERZA POPULAR</td>\n",
       "    </tr>\n",
       "    <tr>\n",
       "      <th>3</th>\n",
       "      <td>42344527</td>\n",
       "      <td>0</td>\n",
       "      <td>FUERZA POPULAR</td>\n",
       "    </tr>\n",
       "    <tr>\n",
       "      <th>4</th>\n",
       "      <td>7721458</td>\n",
       "      <td>0</td>\n",
       "      <td>FUERZA POPULAR</td>\n",
       "    </tr>\n",
       "    <tr>\n",
       "      <th>...</th>\n",
       "      <td>...</td>\n",
       "      <td>...</td>\n",
       "      <td>...</td>\n",
       "    </tr>\n",
       "    <tr>\n",
       "      <th>172</th>\n",
       "      <td>8232920</td>\n",
       "      <td>444400</td>\n",
       "      <td>FUERZA POPULAR</td>\n",
       "    </tr>\n",
       "    <tr>\n",
       "      <th>173</th>\n",
       "      <td>508734</td>\n",
       "      <td>500000</td>\n",
       "      <td>FUERZA POPULAR</td>\n",
       "    </tr>\n",
       "    <tr>\n",
       "      <th>174</th>\n",
       "      <td>8803658</td>\n",
       "      <td>515605</td>\n",
       "      <td>FUERZA POPULAR</td>\n",
       "    </tr>\n",
       "    <tr>\n",
       "      <th>175</th>\n",
       "      <td>17896798</td>\n",
       "      <td>884784</td>\n",
       "      <td>FUERZA POPULAR</td>\n",
       "    </tr>\n",
       "    <tr>\n",
       "      <th>176</th>\n",
       "      <td>4641322</td>\n",
       "      <td>2750000</td>\n",
       "      <td>FUERZA POPULAR</td>\n",
       "    </tr>\n",
       "  </tbody>\n",
       "</table>\n",
       "<p>177 rows × 3 columns</p>\n",
       "</div>"
      ],
      "text/plain": [
       "          dni  total_ingreso         partido\n",
       "0      508595              0  FUERZA POPULAR\n",
       "1    41221397              0  FUERZA POPULAR\n",
       "2    46994878              0  FUERZA POPULAR\n",
       "3    42344527              0  FUERZA POPULAR\n",
       "4     7721458              0  FUERZA POPULAR\n",
       "..        ...            ...             ...\n",
       "172   8232920         444400  FUERZA POPULAR\n",
       "173    508734         500000  FUERZA POPULAR\n",
       "174   8803658         515605  FUERZA POPULAR\n",
       "175  17896798         884784  FUERZA POPULAR\n",
       "176   4641322        2750000  FUERZA POPULAR\n",
       "\n",
       "[177 rows x 3 columns]"
      ]
     },
     "execution_count": 88,
     "metadata": {},
     "output_type": "execute_result"
    }
   ],
   "source": [
    "resultado_merge_fp = pd.merge(cong_1,\n",
    "                     solo_fp,\n",
    "                    left_on = 'dni',\n",
    "                    right_on = 'dni',\n",
    "                    how = 'inner')\n",
    "resultado_merge_fp"
   ]
  },
  {
   "cell_type": "code",
   "execution_count": null,
   "metadata": {},
   "outputs": [],
   "source": []
  }
 ],
 "metadata": {
  "kernelspec": {
   "display_name": "Python 3",
   "language": "python",
   "name": "python3"
  },
  "language_info": {
   "codemirror_mode": {
    "name": "ipython",
    "version": 3
   },
   "file_extension": ".py",
   "mimetype": "text/x-python",
   "name": "python",
   "nbconvert_exporter": "python",
   "pygments_lexer": "ipython3",
   "version": "3.8.5"
  }
 },
 "nbformat": 4,
 "nbformat_minor": 4
}
